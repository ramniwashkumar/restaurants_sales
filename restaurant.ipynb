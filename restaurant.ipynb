{
 "cells": [
  {
   "cell_type": "code",
   "execution_count": 1,
   "id": "f497e6f1",
   "metadata": {},
   "outputs": [],
   "source": [
    "import numpy as np\n",
    "import pandas as pd\n",
    "import matplotlib.pyplot as plt\n",
    "import seaborn as sns"
   ]
  },
  {
   "cell_type": "markdown",
   "id": "abb8a1c0",
   "metadata": {},
   "source": [
    "## DATA PREPROCESSING"
   ]
  },
  {
   "cell_type": "code",
   "execution_count": 8,
   "id": "9c76cddf",
   "metadata": {},
   "outputs": [
    {
     "data": {
      "application/javascript": [
       "\n",
       "        if (window._pyforest_update_imports_cell) { window._pyforest_update_imports_cell('import pandas as pd'); }\n",
       "    "
      ],
      "text/plain": [
       "<IPython.core.display.Javascript object>"
      ]
     },
     "metadata": {},
     "output_type": "display_data"
    }
   ],
   "source": [
    "df = pd.read_csv(r'C:/Users/ramni/OneDrive/Desktop/feynnlabs_p3/Restaurant food consumption.csv')"
   ]
  },
  {
   "cell_type": "code",
   "execution_count": 3,
   "id": "27985d19",
   "metadata": {},
   "outputs": [
    {
     "data": {
      "text/html": [
       "<div>\n",
       "<style scoped>\n",
       "    .dataframe tbody tr th:only-of-type {\n",
       "        vertical-align: middle;\n",
       "    }\n",
       "\n",
       "    .dataframe tbody tr th {\n",
       "        vertical-align: top;\n",
       "    }\n",
       "\n",
       "    .dataframe thead th {\n",
       "        text-align: right;\n",
       "    }\n",
       "</style>\n",
       "<table border=\"1\" class=\"dataframe\">\n",
       "  <thead>\n",
       "    <tr style=\"text-align: right;\">\n",
       "      <th></th>\n",
       "      <th>Date_time</th>\n",
       "      <th>Shift</th>\n",
       "      <th>Day Type</th>\n",
       "      <th>Day</th>\n",
       "      <th>PartySize</th>\n",
       "      <th>MenuCateogry</th>\n",
       "      <th>MenuItem</th>\n",
       "      <th>ItemPrice</th>\n",
       "      <th>ItemQty</th>\n",
       "    </tr>\n",
       "  </thead>\n",
       "  <tbody>\n",
       "    <tr>\n",
       "      <th>0</th>\n",
       "      <td>2019-01-01 11:30:00</td>\n",
       "      <td>Lunch</td>\n",
       "      <td>Weekday</td>\n",
       "      <td>Tuesday</td>\n",
       "      <td>4</td>\n",
       "      <td>Starter</td>\n",
       "      <td>Gobi manchurian</td>\n",
       "      <td>14.00</td>\n",
       "      <td>1</td>\n",
       "    </tr>\n",
       "    <tr>\n",
       "      <th>1</th>\n",
       "      <td>2019-01-01 11:30:00</td>\n",
       "      <td>Lunch</td>\n",
       "      <td>Weekday</td>\n",
       "      <td>Tuesday</td>\n",
       "      <td>4</td>\n",
       "      <td>Starter</td>\n",
       "      <td>Tasty flatbread</td>\n",
       "      <td>11.00</td>\n",
       "      <td>1</td>\n",
       "    </tr>\n",
       "    <tr>\n",
       "      <th>2</th>\n",
       "      <td>2019-01-01 11:30:00</td>\n",
       "      <td>Lunch</td>\n",
       "      <td>Weekday</td>\n",
       "      <td>Tuesday</td>\n",
       "      <td>4</td>\n",
       "      <td>Vegetable specials</td>\n",
       "      <td>Sarson da saag</td>\n",
       "      <td>15.00</td>\n",
       "      <td>1</td>\n",
       "    </tr>\n",
       "    <tr>\n",
       "      <th>3</th>\n",
       "      <td>2019-01-01 11:30:00</td>\n",
       "      <td>Lunch</td>\n",
       "      <td>Weekday</td>\n",
       "      <td>Tuesday</td>\n",
       "      <td>4</td>\n",
       "      <td>Vegetable specials</td>\n",
       "      <td>Paneer vindaloo</td>\n",
       "      <td>16.00</td>\n",
       "      <td>1</td>\n",
       "    </tr>\n",
       "    <tr>\n",
       "      <th>4</th>\n",
       "      <td>2019-01-01 11:30:00</td>\n",
       "      <td>Lunch</td>\n",
       "      <td>Weekday</td>\n",
       "      <td>Tuesday</td>\n",
       "      <td>4</td>\n",
       "      <td>Breads</td>\n",
       "      <td>Garlic naan</td>\n",
       "      <td>3.50</td>\n",
       "      <td>2</td>\n",
       "    </tr>\n",
       "    <tr>\n",
       "      <th>...</th>\n",
       "      <td>...</td>\n",
       "      <td>...</td>\n",
       "      <td>...</td>\n",
       "      <td>...</td>\n",
       "      <td>...</td>\n",
       "      <td>...</td>\n",
       "      <td>...</td>\n",
       "      <td>...</td>\n",
       "      <td>...</td>\n",
       "    </tr>\n",
       "    <tr>\n",
       "      <th>18095</th>\n",
       "      <td>2019-06-30 20:30:00</td>\n",
       "      <td>Dinner</td>\n",
       "      <td>Weekend</td>\n",
       "      <td>Sunday</td>\n",
       "      <td>0</td>\n",
       "      <td>Rice specials</td>\n",
       "      <td>Rice</td>\n",
       "      <td>5.00</td>\n",
       "      <td>1</td>\n",
       "    </tr>\n",
       "    <tr>\n",
       "      <th>18096</th>\n",
       "      <td>2019-06-30 20:30:00</td>\n",
       "      <td>Dinner</td>\n",
       "      <td>Weekend</td>\n",
       "      <td>Sunday</td>\n",
       "      <td>0</td>\n",
       "      <td>Breads</td>\n",
       "      <td>Tandoori roti</td>\n",
       "      <td>2.75</td>\n",
       "      <td>1</td>\n",
       "    </tr>\n",
       "    <tr>\n",
       "      <th>18097</th>\n",
       "      <td>2019-06-30 20:30:00</td>\n",
       "      <td>Dinner</td>\n",
       "      <td>Weekend</td>\n",
       "      <td>Sunday</td>\n",
       "      <td>0</td>\n",
       "      <td>Breads</td>\n",
       "      <td>Naan</td>\n",
       "      <td>2.75</td>\n",
       "      <td>4</td>\n",
       "    </tr>\n",
       "    <tr>\n",
       "      <th>18098</th>\n",
       "      <td>2019-06-30 20:30:00</td>\n",
       "      <td>Dinner</td>\n",
       "      <td>Weekend</td>\n",
       "      <td>Sunday</td>\n",
       "      <td>0</td>\n",
       "      <td>Vegetable specials</td>\n",
       "      <td>Kadahi paneer</td>\n",
       "      <td>16.00</td>\n",
       "      <td>2</td>\n",
       "    </tr>\n",
       "    <tr>\n",
       "      <th>18099</th>\n",
       "      <td>2019-06-30 20:30:00</td>\n",
       "      <td>Dinner</td>\n",
       "      <td>Weekend</td>\n",
       "      <td>Sunday</td>\n",
       "      <td>0</td>\n",
       "      <td>Breads</td>\n",
       "      <td>Garlic naan</td>\n",
       "      <td>3.50</td>\n",
       "      <td>2</td>\n",
       "    </tr>\n",
       "  </tbody>\n",
       "</table>\n",
       "<p>18100 rows × 9 columns</p>\n",
       "</div>"
      ],
      "text/plain": [
       "                 Date_time   Shift Day Type      Day  PartySize  \\\n",
       "0      2019-01-01 11:30:00   Lunch  Weekday  Tuesday          4   \n",
       "1      2019-01-01 11:30:00   Lunch  Weekday  Tuesday          4   \n",
       "2      2019-01-01 11:30:00   Lunch  Weekday  Tuesday          4   \n",
       "3      2019-01-01 11:30:00   Lunch  Weekday  Tuesday          4   \n",
       "4      2019-01-01 11:30:00   Lunch  Weekday  Tuesday          4   \n",
       "...                    ...     ...      ...      ...        ...   \n",
       "18095  2019-06-30 20:30:00  Dinner  Weekend   Sunday          0   \n",
       "18096  2019-06-30 20:30:00  Dinner  Weekend   Sunday          0   \n",
       "18097  2019-06-30 20:30:00  Dinner  Weekend   Sunday          0   \n",
       "18098  2019-06-30 20:30:00  Dinner  Weekend   Sunday          0   \n",
       "18099  2019-06-30 20:30:00  Dinner  Weekend   Sunday          0   \n",
       "\n",
       "             MenuCateogry         MenuItem  ItemPrice  ItemQty  \n",
       "0                 Starter  Gobi manchurian      14.00        1  \n",
       "1                 Starter  Tasty flatbread      11.00        1  \n",
       "2      Vegetable specials   Sarson da saag      15.00        1  \n",
       "3      Vegetable specials  Paneer vindaloo      16.00        1  \n",
       "4                  Breads      Garlic naan       3.50        2  \n",
       "...                   ...              ...        ...      ...  \n",
       "18095       Rice specials             Rice       5.00        1  \n",
       "18096              Breads    Tandoori roti       2.75        1  \n",
       "18097              Breads             Naan       2.75        4  \n",
       "18098  Vegetable specials    Kadahi paneer      16.00        2  \n",
       "18099              Breads      Garlic naan       3.50        2  \n",
       "\n",
       "[18100 rows x 9 columns]"
      ]
     },
     "execution_count": 3,
     "metadata": {},
     "output_type": "execute_result"
    }
   ],
   "source": [
    "df"
   ]
  },
  {
   "cell_type": "code",
   "execution_count": 9,
   "id": "6060e264",
   "metadata": {},
   "outputs": [
    {
     "data": {
      "text/plain": [
       "Date_time       0\n",
       "Shift           0\n",
       "Day Type        0\n",
       "Day             0\n",
       "PartySize       0\n",
       "MenuCateogry    0\n",
       "MenuItem        0\n",
       "ItemPrice       0\n",
       "ItemQty         0\n",
       "dtype: int64"
      ]
     },
     "execution_count": 9,
     "metadata": {},
     "output_type": "execute_result"
    }
   ],
   "source": [
    "df.isnull().sum()"
   ]
  },
  {
   "cell_type": "code",
   "execution_count": 10,
   "id": "751dfaed",
   "metadata": {},
   "outputs": [],
   "source": [
    "def date(x):\n",
    "    return x.split()[0]\n",
    "def time(x):\n",
    "    return x.split()[1]\n",
    "df['Date'] = df['Date_time'].apply(date)\n",
    "df['Time'] = df['Date_time'].apply(time)"
   ]
  },
  {
   "cell_type": "code",
   "execution_count": 11,
   "id": "c9c83b97",
   "metadata": {},
   "outputs": [
    {
     "data": {
      "text/html": [
       "<div>\n",
       "<style scoped>\n",
       "    .dataframe tbody tr th:only-of-type {\n",
       "        vertical-align: middle;\n",
       "    }\n",
       "\n",
       "    .dataframe tbody tr th {\n",
       "        vertical-align: top;\n",
       "    }\n",
       "\n",
       "    .dataframe thead th {\n",
       "        text-align: right;\n",
       "    }\n",
       "</style>\n",
       "<table border=\"1\" class=\"dataframe\">\n",
       "  <thead>\n",
       "    <tr style=\"text-align: right;\">\n",
       "      <th></th>\n",
       "      <th>Date_time</th>\n",
       "      <th>Shift</th>\n",
       "      <th>Day Type</th>\n",
       "      <th>Day</th>\n",
       "      <th>PartySize</th>\n",
       "      <th>MenuCateogry</th>\n",
       "      <th>MenuItem</th>\n",
       "      <th>ItemPrice</th>\n",
       "      <th>ItemQty</th>\n",
       "      <th>Date</th>\n",
       "      <th>Time</th>\n",
       "    </tr>\n",
       "  </thead>\n",
       "  <tbody>\n",
       "    <tr>\n",
       "      <th>0</th>\n",
       "      <td>2019-01-01 11:30:00</td>\n",
       "      <td>Lunch</td>\n",
       "      <td>Weekday</td>\n",
       "      <td>Tuesday</td>\n",
       "      <td>4</td>\n",
       "      <td>Starter</td>\n",
       "      <td>Gobi manchurian</td>\n",
       "      <td>14.00</td>\n",
       "      <td>1</td>\n",
       "      <td>2019-01-01</td>\n",
       "      <td>11:30:00</td>\n",
       "    </tr>\n",
       "    <tr>\n",
       "      <th>1</th>\n",
       "      <td>2019-01-01 11:30:00</td>\n",
       "      <td>Lunch</td>\n",
       "      <td>Weekday</td>\n",
       "      <td>Tuesday</td>\n",
       "      <td>4</td>\n",
       "      <td>Starter</td>\n",
       "      <td>Tasty flatbread</td>\n",
       "      <td>11.00</td>\n",
       "      <td>1</td>\n",
       "      <td>2019-01-01</td>\n",
       "      <td>11:30:00</td>\n",
       "    </tr>\n",
       "    <tr>\n",
       "      <th>2</th>\n",
       "      <td>2019-01-01 11:30:00</td>\n",
       "      <td>Lunch</td>\n",
       "      <td>Weekday</td>\n",
       "      <td>Tuesday</td>\n",
       "      <td>4</td>\n",
       "      <td>Vegetable specials</td>\n",
       "      <td>Sarson da saag</td>\n",
       "      <td>15.00</td>\n",
       "      <td>1</td>\n",
       "      <td>2019-01-01</td>\n",
       "      <td>11:30:00</td>\n",
       "    </tr>\n",
       "    <tr>\n",
       "      <th>3</th>\n",
       "      <td>2019-01-01 11:30:00</td>\n",
       "      <td>Lunch</td>\n",
       "      <td>Weekday</td>\n",
       "      <td>Tuesday</td>\n",
       "      <td>4</td>\n",
       "      <td>Vegetable specials</td>\n",
       "      <td>Paneer vindaloo</td>\n",
       "      <td>16.00</td>\n",
       "      <td>1</td>\n",
       "      <td>2019-01-01</td>\n",
       "      <td>11:30:00</td>\n",
       "    </tr>\n",
       "    <tr>\n",
       "      <th>4</th>\n",
       "      <td>2019-01-01 11:30:00</td>\n",
       "      <td>Lunch</td>\n",
       "      <td>Weekday</td>\n",
       "      <td>Tuesday</td>\n",
       "      <td>4</td>\n",
       "      <td>Breads</td>\n",
       "      <td>Garlic naan</td>\n",
       "      <td>3.50</td>\n",
       "      <td>2</td>\n",
       "      <td>2019-01-01</td>\n",
       "      <td>11:30:00</td>\n",
       "    </tr>\n",
       "    <tr>\n",
       "      <th>...</th>\n",
       "      <td>...</td>\n",
       "      <td>...</td>\n",
       "      <td>...</td>\n",
       "      <td>...</td>\n",
       "      <td>...</td>\n",
       "      <td>...</td>\n",
       "      <td>...</td>\n",
       "      <td>...</td>\n",
       "      <td>...</td>\n",
       "      <td>...</td>\n",
       "      <td>...</td>\n",
       "    </tr>\n",
       "    <tr>\n",
       "      <th>18095</th>\n",
       "      <td>2019-06-30 20:30:00</td>\n",
       "      <td>Dinner</td>\n",
       "      <td>Weekend</td>\n",
       "      <td>Sunday</td>\n",
       "      <td>0</td>\n",
       "      <td>Rice specials</td>\n",
       "      <td>Rice</td>\n",
       "      <td>5.00</td>\n",
       "      <td>1</td>\n",
       "      <td>2019-06-30</td>\n",
       "      <td>20:30:00</td>\n",
       "    </tr>\n",
       "    <tr>\n",
       "      <th>18096</th>\n",
       "      <td>2019-06-30 20:30:00</td>\n",
       "      <td>Dinner</td>\n",
       "      <td>Weekend</td>\n",
       "      <td>Sunday</td>\n",
       "      <td>0</td>\n",
       "      <td>Breads</td>\n",
       "      <td>Tandoori roti</td>\n",
       "      <td>2.75</td>\n",
       "      <td>1</td>\n",
       "      <td>2019-06-30</td>\n",
       "      <td>20:30:00</td>\n",
       "    </tr>\n",
       "    <tr>\n",
       "      <th>18097</th>\n",
       "      <td>2019-06-30 20:30:00</td>\n",
       "      <td>Dinner</td>\n",
       "      <td>Weekend</td>\n",
       "      <td>Sunday</td>\n",
       "      <td>0</td>\n",
       "      <td>Breads</td>\n",
       "      <td>Naan</td>\n",
       "      <td>2.75</td>\n",
       "      <td>4</td>\n",
       "      <td>2019-06-30</td>\n",
       "      <td>20:30:00</td>\n",
       "    </tr>\n",
       "    <tr>\n",
       "      <th>18098</th>\n",
       "      <td>2019-06-30 20:30:00</td>\n",
       "      <td>Dinner</td>\n",
       "      <td>Weekend</td>\n",
       "      <td>Sunday</td>\n",
       "      <td>0</td>\n",
       "      <td>Vegetable specials</td>\n",
       "      <td>Kadahi paneer</td>\n",
       "      <td>16.00</td>\n",
       "      <td>2</td>\n",
       "      <td>2019-06-30</td>\n",
       "      <td>20:30:00</td>\n",
       "    </tr>\n",
       "    <tr>\n",
       "      <th>18099</th>\n",
       "      <td>2019-06-30 20:30:00</td>\n",
       "      <td>Dinner</td>\n",
       "      <td>Weekend</td>\n",
       "      <td>Sunday</td>\n",
       "      <td>0</td>\n",
       "      <td>Breads</td>\n",
       "      <td>Garlic naan</td>\n",
       "      <td>3.50</td>\n",
       "      <td>2</td>\n",
       "      <td>2019-06-30</td>\n",
       "      <td>20:30:00</td>\n",
       "    </tr>\n",
       "  </tbody>\n",
       "</table>\n",
       "<p>18100 rows × 11 columns</p>\n",
       "</div>"
      ],
      "text/plain": [
       "                 Date_time   Shift Day Type      Day  PartySize  \\\n",
       "0      2019-01-01 11:30:00   Lunch  Weekday  Tuesday          4   \n",
       "1      2019-01-01 11:30:00   Lunch  Weekday  Tuesday          4   \n",
       "2      2019-01-01 11:30:00   Lunch  Weekday  Tuesday          4   \n",
       "3      2019-01-01 11:30:00   Lunch  Weekday  Tuesday          4   \n",
       "4      2019-01-01 11:30:00   Lunch  Weekday  Tuesday          4   \n",
       "...                    ...     ...      ...      ...        ...   \n",
       "18095  2019-06-30 20:30:00  Dinner  Weekend   Sunday          0   \n",
       "18096  2019-06-30 20:30:00  Dinner  Weekend   Sunday          0   \n",
       "18097  2019-06-30 20:30:00  Dinner  Weekend   Sunday          0   \n",
       "18098  2019-06-30 20:30:00  Dinner  Weekend   Sunday          0   \n",
       "18099  2019-06-30 20:30:00  Dinner  Weekend   Sunday          0   \n",
       "\n",
       "             MenuCateogry         MenuItem  ItemPrice  ItemQty        Date  \\\n",
       "0                 Starter  Gobi manchurian      14.00        1  2019-01-01   \n",
       "1                 Starter  Tasty flatbread      11.00        1  2019-01-01   \n",
       "2      Vegetable specials   Sarson da saag      15.00        1  2019-01-01   \n",
       "3      Vegetable specials  Paneer vindaloo      16.00        1  2019-01-01   \n",
       "4                  Breads      Garlic naan       3.50        2  2019-01-01   \n",
       "...                   ...              ...        ...      ...         ...   \n",
       "18095       Rice specials             Rice       5.00        1  2019-06-30   \n",
       "18096              Breads    Tandoori roti       2.75        1  2019-06-30   \n",
       "18097              Breads             Naan       2.75        4  2019-06-30   \n",
       "18098  Vegetable specials    Kadahi paneer      16.00        2  2019-06-30   \n",
       "18099              Breads      Garlic naan       3.50        2  2019-06-30   \n",
       "\n",
       "           Time  \n",
       "0      11:30:00  \n",
       "1      11:30:00  \n",
       "2      11:30:00  \n",
       "3      11:30:00  \n",
       "4      11:30:00  \n",
       "...         ...  \n",
       "18095  20:30:00  \n",
       "18096  20:30:00  \n",
       "18097  20:30:00  \n",
       "18098  20:30:00  \n",
       "18099  20:30:00  \n",
       "\n",
       "[18100 rows x 11 columns]"
      ]
     },
     "execution_count": 11,
     "metadata": {},
     "output_type": "execute_result"
    }
   ],
   "source": [
    "df"
   ]
  },
  {
   "cell_type": "code",
   "execution_count": 12,
   "id": "c3fb3bd8",
   "metadata": {},
   "outputs": [
    {
     "data": {
      "text/plain": [
       "0        2019-01-01 11:30:00\n",
       "1        2019-01-01 11:30:00\n",
       "2        2019-01-01 11:30:00\n",
       "3        2019-01-01 11:30:00\n",
       "4        2019-01-01 11:30:00\n",
       "                ...         \n",
       "18095    2019-06-30 20:30:00\n",
       "18096    2019-06-30 20:30:00\n",
       "18097    2019-06-30 20:30:00\n",
       "18098    2019-06-30 20:30:00\n",
       "18099    2019-06-30 20:30:00\n",
       "Name: Date_time, Length: 18100, dtype: object"
      ]
     },
     "execution_count": 12,
     "metadata": {},
     "output_type": "execute_result"
    }
   ],
   "source": [
    "df.pop('Date_time')"
   ]
  },
  {
   "cell_type": "code",
   "execution_count": 13,
   "id": "67bd01da",
   "metadata": {},
   "outputs": [
    {
     "data": {
      "text/html": [
       "<div>\n",
       "<style scoped>\n",
       "    .dataframe tbody tr th:only-of-type {\n",
       "        vertical-align: middle;\n",
       "    }\n",
       "\n",
       "    .dataframe tbody tr th {\n",
       "        vertical-align: top;\n",
       "    }\n",
       "\n",
       "    .dataframe thead th {\n",
       "        text-align: right;\n",
       "    }\n",
       "</style>\n",
       "<table border=\"1\" class=\"dataframe\">\n",
       "  <thead>\n",
       "    <tr style=\"text-align: right;\">\n",
       "      <th></th>\n",
       "      <th>Shift</th>\n",
       "      <th>Day Type</th>\n",
       "      <th>Day</th>\n",
       "      <th>PartySize</th>\n",
       "      <th>MenuCateogry</th>\n",
       "      <th>MenuItem</th>\n",
       "      <th>ItemPrice</th>\n",
       "      <th>ItemQty</th>\n",
       "      <th>Date</th>\n",
       "      <th>Time</th>\n",
       "    </tr>\n",
       "  </thead>\n",
       "  <tbody>\n",
       "    <tr>\n",
       "      <th>0</th>\n",
       "      <td>Lunch</td>\n",
       "      <td>Weekday</td>\n",
       "      <td>Tuesday</td>\n",
       "      <td>4</td>\n",
       "      <td>Starter</td>\n",
       "      <td>Gobi manchurian</td>\n",
       "      <td>14.00</td>\n",
       "      <td>1</td>\n",
       "      <td>2019-01-01</td>\n",
       "      <td>11:30:00</td>\n",
       "    </tr>\n",
       "    <tr>\n",
       "      <th>1</th>\n",
       "      <td>Lunch</td>\n",
       "      <td>Weekday</td>\n",
       "      <td>Tuesday</td>\n",
       "      <td>4</td>\n",
       "      <td>Starter</td>\n",
       "      <td>Tasty flatbread</td>\n",
       "      <td>11.00</td>\n",
       "      <td>1</td>\n",
       "      <td>2019-01-01</td>\n",
       "      <td>11:30:00</td>\n",
       "    </tr>\n",
       "    <tr>\n",
       "      <th>2</th>\n",
       "      <td>Lunch</td>\n",
       "      <td>Weekday</td>\n",
       "      <td>Tuesday</td>\n",
       "      <td>4</td>\n",
       "      <td>Vegetable specials</td>\n",
       "      <td>Sarson da saag</td>\n",
       "      <td>15.00</td>\n",
       "      <td>1</td>\n",
       "      <td>2019-01-01</td>\n",
       "      <td>11:30:00</td>\n",
       "    </tr>\n",
       "    <tr>\n",
       "      <th>3</th>\n",
       "      <td>Lunch</td>\n",
       "      <td>Weekday</td>\n",
       "      <td>Tuesday</td>\n",
       "      <td>4</td>\n",
       "      <td>Vegetable specials</td>\n",
       "      <td>Paneer vindaloo</td>\n",
       "      <td>16.00</td>\n",
       "      <td>1</td>\n",
       "      <td>2019-01-01</td>\n",
       "      <td>11:30:00</td>\n",
       "    </tr>\n",
       "    <tr>\n",
       "      <th>4</th>\n",
       "      <td>Lunch</td>\n",
       "      <td>Weekday</td>\n",
       "      <td>Tuesday</td>\n",
       "      <td>4</td>\n",
       "      <td>Breads</td>\n",
       "      <td>Garlic naan</td>\n",
       "      <td>3.50</td>\n",
       "      <td>2</td>\n",
       "      <td>2019-01-01</td>\n",
       "      <td>11:30:00</td>\n",
       "    </tr>\n",
       "    <tr>\n",
       "      <th>...</th>\n",
       "      <td>...</td>\n",
       "      <td>...</td>\n",
       "      <td>...</td>\n",
       "      <td>...</td>\n",
       "      <td>...</td>\n",
       "      <td>...</td>\n",
       "      <td>...</td>\n",
       "      <td>...</td>\n",
       "      <td>...</td>\n",
       "      <td>...</td>\n",
       "    </tr>\n",
       "    <tr>\n",
       "      <th>18095</th>\n",
       "      <td>Dinner</td>\n",
       "      <td>Weekend</td>\n",
       "      <td>Sunday</td>\n",
       "      <td>0</td>\n",
       "      <td>Rice specials</td>\n",
       "      <td>Rice</td>\n",
       "      <td>5.00</td>\n",
       "      <td>1</td>\n",
       "      <td>2019-06-30</td>\n",
       "      <td>20:30:00</td>\n",
       "    </tr>\n",
       "    <tr>\n",
       "      <th>18096</th>\n",
       "      <td>Dinner</td>\n",
       "      <td>Weekend</td>\n",
       "      <td>Sunday</td>\n",
       "      <td>0</td>\n",
       "      <td>Breads</td>\n",
       "      <td>Tandoori roti</td>\n",
       "      <td>2.75</td>\n",
       "      <td>1</td>\n",
       "      <td>2019-06-30</td>\n",
       "      <td>20:30:00</td>\n",
       "    </tr>\n",
       "    <tr>\n",
       "      <th>18097</th>\n",
       "      <td>Dinner</td>\n",
       "      <td>Weekend</td>\n",
       "      <td>Sunday</td>\n",
       "      <td>0</td>\n",
       "      <td>Breads</td>\n",
       "      <td>Naan</td>\n",
       "      <td>2.75</td>\n",
       "      <td>4</td>\n",
       "      <td>2019-06-30</td>\n",
       "      <td>20:30:00</td>\n",
       "    </tr>\n",
       "    <tr>\n",
       "      <th>18098</th>\n",
       "      <td>Dinner</td>\n",
       "      <td>Weekend</td>\n",
       "      <td>Sunday</td>\n",
       "      <td>0</td>\n",
       "      <td>Vegetable specials</td>\n",
       "      <td>Kadahi paneer</td>\n",
       "      <td>16.00</td>\n",
       "      <td>2</td>\n",
       "      <td>2019-06-30</td>\n",
       "      <td>20:30:00</td>\n",
       "    </tr>\n",
       "    <tr>\n",
       "      <th>18099</th>\n",
       "      <td>Dinner</td>\n",
       "      <td>Weekend</td>\n",
       "      <td>Sunday</td>\n",
       "      <td>0</td>\n",
       "      <td>Breads</td>\n",
       "      <td>Garlic naan</td>\n",
       "      <td>3.50</td>\n",
       "      <td>2</td>\n",
       "      <td>2019-06-30</td>\n",
       "      <td>20:30:00</td>\n",
       "    </tr>\n",
       "  </tbody>\n",
       "</table>\n",
       "<p>18100 rows × 10 columns</p>\n",
       "</div>"
      ],
      "text/plain": [
       "        Shift Day Type      Day  PartySize        MenuCateogry  \\\n",
       "0       Lunch  Weekday  Tuesday          4             Starter   \n",
       "1       Lunch  Weekday  Tuesday          4             Starter   \n",
       "2       Lunch  Weekday  Tuesday          4  Vegetable specials   \n",
       "3       Lunch  Weekday  Tuesday          4  Vegetable specials   \n",
       "4       Lunch  Weekday  Tuesday          4              Breads   \n",
       "...       ...      ...      ...        ...                 ...   \n",
       "18095  Dinner  Weekend   Sunday          0       Rice specials   \n",
       "18096  Dinner  Weekend   Sunday          0              Breads   \n",
       "18097  Dinner  Weekend   Sunday          0              Breads   \n",
       "18098  Dinner  Weekend   Sunday          0  Vegetable specials   \n",
       "18099  Dinner  Weekend   Sunday          0              Breads   \n",
       "\n",
       "              MenuItem  ItemPrice  ItemQty        Date      Time  \n",
       "0      Gobi manchurian      14.00        1  2019-01-01  11:30:00  \n",
       "1      Tasty flatbread      11.00        1  2019-01-01  11:30:00  \n",
       "2       Sarson da saag      15.00        1  2019-01-01  11:30:00  \n",
       "3      Paneer vindaloo      16.00        1  2019-01-01  11:30:00  \n",
       "4          Garlic naan       3.50        2  2019-01-01  11:30:00  \n",
       "...                ...        ...      ...         ...       ...  \n",
       "18095             Rice       5.00        1  2019-06-30  20:30:00  \n",
       "18096    Tandoori roti       2.75        1  2019-06-30  20:30:00  \n",
       "18097             Naan       2.75        4  2019-06-30  20:30:00  \n",
       "18098    Kadahi paneer      16.00        2  2019-06-30  20:30:00  \n",
       "18099      Garlic naan       3.50        2  2019-06-30  20:30:00  \n",
       "\n",
       "[18100 rows x 10 columns]"
      ]
     },
     "execution_count": 13,
     "metadata": {},
     "output_type": "execute_result"
    }
   ],
   "source": [
    "df"
   ]
  },
  {
   "cell_type": "code",
   "execution_count": 14,
   "id": "01bbcd96",
   "metadata": {},
   "outputs": [
    {
     "data": {
      "application/javascript": [
       "\n",
       "        if (window._pyforest_update_imports_cell) { window._pyforest_update_imports_cell('import pandas as pd'); }\n",
       "    "
      ],
      "text/plain": [
       "<IPython.core.display.Javascript object>"
      ]
     },
     "metadata": {},
     "output_type": "display_data"
    },
    {
     "data": {
      "text/plain": [
       "array([2019], dtype=int64)"
      ]
     },
     "execution_count": 14,
     "metadata": {},
     "output_type": "execute_result"
    }
   ],
   "source": [
    "pd.to_datetime(df['Date']).dt.year.unique()"
   ]
  },
  {
   "cell_type": "code",
   "execution_count": 15,
   "id": "ec074d34",
   "metadata": {},
   "outputs": [
    {
     "data": {
      "text/plain": [
       "1"
      ]
     },
     "execution_count": 15,
     "metadata": {},
     "output_type": "execute_result"
    }
   ],
   "source": [
    "int(df['Date'].iloc[0].split('-')[1])"
   ]
  },
  {
   "cell_type": "code",
   "execution_count": 16,
   "id": "1bab61e0",
   "metadata": {},
   "outputs": [],
   "source": [
    "def month(x):\n",
    "    return int(x.split('-')[1])\n",
    "df['Month'] = df['Date'].apply(month)"
   ]
  },
  {
   "cell_type": "code",
   "execution_count": 17,
   "id": "df93711f",
   "metadata": {},
   "outputs": [
    {
     "data": {
      "text/html": [
       "<div>\n",
       "<style scoped>\n",
       "    .dataframe tbody tr th:only-of-type {\n",
       "        vertical-align: middle;\n",
       "    }\n",
       "\n",
       "    .dataframe tbody tr th {\n",
       "        vertical-align: top;\n",
       "    }\n",
       "\n",
       "    .dataframe thead th {\n",
       "        text-align: right;\n",
       "    }\n",
       "</style>\n",
       "<table border=\"1\" class=\"dataframe\">\n",
       "  <thead>\n",
       "    <tr style=\"text-align: right;\">\n",
       "      <th></th>\n",
       "      <th>Shift</th>\n",
       "      <th>Day Type</th>\n",
       "      <th>Day</th>\n",
       "      <th>PartySize</th>\n",
       "      <th>MenuCateogry</th>\n",
       "      <th>MenuItem</th>\n",
       "      <th>ItemPrice</th>\n",
       "      <th>ItemQty</th>\n",
       "      <th>Date</th>\n",
       "      <th>Time</th>\n",
       "      <th>Month</th>\n",
       "    </tr>\n",
       "  </thead>\n",
       "  <tbody>\n",
       "    <tr>\n",
       "      <th>0</th>\n",
       "      <td>Lunch</td>\n",
       "      <td>Weekday</td>\n",
       "      <td>Tuesday</td>\n",
       "      <td>4</td>\n",
       "      <td>Starter</td>\n",
       "      <td>Gobi manchurian</td>\n",
       "      <td>14.00</td>\n",
       "      <td>1</td>\n",
       "      <td>2019-01-01</td>\n",
       "      <td>11:30:00</td>\n",
       "      <td>1</td>\n",
       "    </tr>\n",
       "    <tr>\n",
       "      <th>1</th>\n",
       "      <td>Lunch</td>\n",
       "      <td>Weekday</td>\n",
       "      <td>Tuesday</td>\n",
       "      <td>4</td>\n",
       "      <td>Starter</td>\n",
       "      <td>Tasty flatbread</td>\n",
       "      <td>11.00</td>\n",
       "      <td>1</td>\n",
       "      <td>2019-01-01</td>\n",
       "      <td>11:30:00</td>\n",
       "      <td>1</td>\n",
       "    </tr>\n",
       "    <tr>\n",
       "      <th>2</th>\n",
       "      <td>Lunch</td>\n",
       "      <td>Weekday</td>\n",
       "      <td>Tuesday</td>\n",
       "      <td>4</td>\n",
       "      <td>Vegetable specials</td>\n",
       "      <td>Sarson da saag</td>\n",
       "      <td>15.00</td>\n",
       "      <td>1</td>\n",
       "      <td>2019-01-01</td>\n",
       "      <td>11:30:00</td>\n",
       "      <td>1</td>\n",
       "    </tr>\n",
       "    <tr>\n",
       "      <th>3</th>\n",
       "      <td>Lunch</td>\n",
       "      <td>Weekday</td>\n",
       "      <td>Tuesday</td>\n",
       "      <td>4</td>\n",
       "      <td>Vegetable specials</td>\n",
       "      <td>Paneer vindaloo</td>\n",
       "      <td>16.00</td>\n",
       "      <td>1</td>\n",
       "      <td>2019-01-01</td>\n",
       "      <td>11:30:00</td>\n",
       "      <td>1</td>\n",
       "    </tr>\n",
       "    <tr>\n",
       "      <th>4</th>\n",
       "      <td>Lunch</td>\n",
       "      <td>Weekday</td>\n",
       "      <td>Tuesday</td>\n",
       "      <td>4</td>\n",
       "      <td>Breads</td>\n",
       "      <td>Garlic naan</td>\n",
       "      <td>3.50</td>\n",
       "      <td>2</td>\n",
       "      <td>2019-01-01</td>\n",
       "      <td>11:30:00</td>\n",
       "      <td>1</td>\n",
       "    </tr>\n",
       "    <tr>\n",
       "      <th>...</th>\n",
       "      <td>...</td>\n",
       "      <td>...</td>\n",
       "      <td>...</td>\n",
       "      <td>...</td>\n",
       "      <td>...</td>\n",
       "      <td>...</td>\n",
       "      <td>...</td>\n",
       "      <td>...</td>\n",
       "      <td>...</td>\n",
       "      <td>...</td>\n",
       "      <td>...</td>\n",
       "    </tr>\n",
       "    <tr>\n",
       "      <th>18095</th>\n",
       "      <td>Dinner</td>\n",
       "      <td>Weekend</td>\n",
       "      <td>Sunday</td>\n",
       "      <td>0</td>\n",
       "      <td>Rice specials</td>\n",
       "      <td>Rice</td>\n",
       "      <td>5.00</td>\n",
       "      <td>1</td>\n",
       "      <td>2019-06-30</td>\n",
       "      <td>20:30:00</td>\n",
       "      <td>6</td>\n",
       "    </tr>\n",
       "    <tr>\n",
       "      <th>18096</th>\n",
       "      <td>Dinner</td>\n",
       "      <td>Weekend</td>\n",
       "      <td>Sunday</td>\n",
       "      <td>0</td>\n",
       "      <td>Breads</td>\n",
       "      <td>Tandoori roti</td>\n",
       "      <td>2.75</td>\n",
       "      <td>1</td>\n",
       "      <td>2019-06-30</td>\n",
       "      <td>20:30:00</td>\n",
       "      <td>6</td>\n",
       "    </tr>\n",
       "    <tr>\n",
       "      <th>18097</th>\n",
       "      <td>Dinner</td>\n",
       "      <td>Weekend</td>\n",
       "      <td>Sunday</td>\n",
       "      <td>0</td>\n",
       "      <td>Breads</td>\n",
       "      <td>Naan</td>\n",
       "      <td>2.75</td>\n",
       "      <td>4</td>\n",
       "      <td>2019-06-30</td>\n",
       "      <td>20:30:00</td>\n",
       "      <td>6</td>\n",
       "    </tr>\n",
       "    <tr>\n",
       "      <th>18098</th>\n",
       "      <td>Dinner</td>\n",
       "      <td>Weekend</td>\n",
       "      <td>Sunday</td>\n",
       "      <td>0</td>\n",
       "      <td>Vegetable specials</td>\n",
       "      <td>Kadahi paneer</td>\n",
       "      <td>16.00</td>\n",
       "      <td>2</td>\n",
       "      <td>2019-06-30</td>\n",
       "      <td>20:30:00</td>\n",
       "      <td>6</td>\n",
       "    </tr>\n",
       "    <tr>\n",
       "      <th>18099</th>\n",
       "      <td>Dinner</td>\n",
       "      <td>Weekend</td>\n",
       "      <td>Sunday</td>\n",
       "      <td>0</td>\n",
       "      <td>Breads</td>\n",
       "      <td>Garlic naan</td>\n",
       "      <td>3.50</td>\n",
       "      <td>2</td>\n",
       "      <td>2019-06-30</td>\n",
       "      <td>20:30:00</td>\n",
       "      <td>6</td>\n",
       "    </tr>\n",
       "  </tbody>\n",
       "</table>\n",
       "<p>18100 rows × 11 columns</p>\n",
       "</div>"
      ],
      "text/plain": [
       "        Shift Day Type      Day  PartySize        MenuCateogry  \\\n",
       "0       Lunch  Weekday  Tuesday          4             Starter   \n",
       "1       Lunch  Weekday  Tuesday          4             Starter   \n",
       "2       Lunch  Weekday  Tuesday          4  Vegetable specials   \n",
       "3       Lunch  Weekday  Tuesday          4  Vegetable specials   \n",
       "4       Lunch  Weekday  Tuesday          4              Breads   \n",
       "...       ...      ...      ...        ...                 ...   \n",
       "18095  Dinner  Weekend   Sunday          0       Rice specials   \n",
       "18096  Dinner  Weekend   Sunday          0              Breads   \n",
       "18097  Dinner  Weekend   Sunday          0              Breads   \n",
       "18098  Dinner  Weekend   Sunday          0  Vegetable specials   \n",
       "18099  Dinner  Weekend   Sunday          0              Breads   \n",
       "\n",
       "              MenuItem  ItemPrice  ItemQty        Date      Time  Month  \n",
       "0      Gobi manchurian      14.00        1  2019-01-01  11:30:00      1  \n",
       "1      Tasty flatbread      11.00        1  2019-01-01  11:30:00      1  \n",
       "2       Sarson da saag      15.00        1  2019-01-01  11:30:00      1  \n",
       "3      Paneer vindaloo      16.00        1  2019-01-01  11:30:00      1  \n",
       "4          Garlic naan       3.50        2  2019-01-01  11:30:00      1  \n",
       "...                ...        ...      ...         ...       ...    ...  \n",
       "18095             Rice       5.00        1  2019-06-30  20:30:00      6  \n",
       "18096    Tandoori roti       2.75        1  2019-06-30  20:30:00      6  \n",
       "18097             Naan       2.75        4  2019-06-30  20:30:00      6  \n",
       "18098    Kadahi paneer      16.00        2  2019-06-30  20:30:00      6  \n",
       "18099      Garlic naan       3.50        2  2019-06-30  20:30:00      6  \n",
       "\n",
       "[18100 rows x 11 columns]"
      ]
     },
     "execution_count": 17,
     "metadata": {},
     "output_type": "execute_result"
    }
   ],
   "source": [
    "df"
   ]
  },
  {
   "cell_type": "code",
   "execution_count": 18,
   "id": "a928a50f",
   "metadata": {},
   "outputs": [
    {
     "data": {
      "text/plain": [
       "0        2019-01-01\n",
       "1        2019-01-01\n",
       "2        2019-01-01\n",
       "3        2019-01-01\n",
       "4        2019-01-01\n",
       "            ...    \n",
       "18095    2019-06-30\n",
       "18096    2019-06-30\n",
       "18097    2019-06-30\n",
       "18098    2019-06-30\n",
       "18099    2019-06-30\n",
       "Name: Date, Length: 18100, dtype: object"
      ]
     },
     "execution_count": 18,
     "metadata": {},
     "output_type": "execute_result"
    }
   ],
   "source": [
    "df.pop('Date')"
   ]
  },
  {
   "cell_type": "code",
   "execution_count": 19,
   "id": "ecd55ccf",
   "metadata": {},
   "outputs": [
    {
     "data": {
      "text/plain": [
       "11"
      ]
     },
     "execution_count": 19,
     "metadata": {},
     "output_type": "execute_result"
    }
   ],
   "source": [
    "int(df['Time'].iloc[0].split(':')[0])"
   ]
  },
  {
   "cell_type": "code",
   "execution_count": 20,
   "id": "da96577a",
   "metadata": {},
   "outputs": [],
   "source": [
    "def hour(x):\n",
    "    return int(x.split(':')[0])\n",
    "df['Hour'] = df['Time'].apply(hour)"
   ]
  },
  {
   "cell_type": "code",
   "execution_count": 21,
   "id": "0009a116",
   "metadata": {},
   "outputs": [
    {
     "data": {
      "text/html": [
       "<div>\n",
       "<style scoped>\n",
       "    .dataframe tbody tr th:only-of-type {\n",
       "        vertical-align: middle;\n",
       "    }\n",
       "\n",
       "    .dataframe tbody tr th {\n",
       "        vertical-align: top;\n",
       "    }\n",
       "\n",
       "    .dataframe thead th {\n",
       "        text-align: right;\n",
       "    }\n",
       "</style>\n",
       "<table border=\"1\" class=\"dataframe\">\n",
       "  <thead>\n",
       "    <tr style=\"text-align: right;\">\n",
       "      <th></th>\n",
       "      <th>Shift</th>\n",
       "      <th>Day Type</th>\n",
       "      <th>Day</th>\n",
       "      <th>PartySize</th>\n",
       "      <th>MenuCateogry</th>\n",
       "      <th>MenuItem</th>\n",
       "      <th>ItemPrice</th>\n",
       "      <th>ItemQty</th>\n",
       "      <th>Time</th>\n",
       "      <th>Month</th>\n",
       "      <th>Hour</th>\n",
       "    </tr>\n",
       "  </thead>\n",
       "  <tbody>\n",
       "    <tr>\n",
       "      <th>0</th>\n",
       "      <td>Lunch</td>\n",
       "      <td>Weekday</td>\n",
       "      <td>Tuesday</td>\n",
       "      <td>4</td>\n",
       "      <td>Starter</td>\n",
       "      <td>Gobi manchurian</td>\n",
       "      <td>14.0</td>\n",
       "      <td>1</td>\n",
       "      <td>11:30:00</td>\n",
       "      <td>1</td>\n",
       "      <td>11</td>\n",
       "    </tr>\n",
       "    <tr>\n",
       "      <th>1</th>\n",
       "      <td>Lunch</td>\n",
       "      <td>Weekday</td>\n",
       "      <td>Tuesday</td>\n",
       "      <td>4</td>\n",
       "      <td>Starter</td>\n",
       "      <td>Tasty flatbread</td>\n",
       "      <td>11.0</td>\n",
       "      <td>1</td>\n",
       "      <td>11:30:00</td>\n",
       "      <td>1</td>\n",
       "      <td>11</td>\n",
       "    </tr>\n",
       "  </tbody>\n",
       "</table>\n",
       "</div>"
      ],
      "text/plain": [
       "   Shift Day Type      Day  PartySize MenuCateogry         MenuItem  \\\n",
       "0  Lunch  Weekday  Tuesday          4      Starter  Gobi manchurian   \n",
       "1  Lunch  Weekday  Tuesday          4      Starter  Tasty flatbread   \n",
       "\n",
       "   ItemPrice  ItemQty      Time  Month  Hour  \n",
       "0       14.0        1  11:30:00      1    11  \n",
       "1       11.0        1  11:30:00      1    11  "
      ]
     },
     "execution_count": 21,
     "metadata": {},
     "output_type": "execute_result"
    }
   ],
   "source": [
    "df.head(2)"
   ]
  },
  {
   "cell_type": "code",
   "execution_count": 22,
   "id": "43db1614",
   "metadata": {},
   "outputs": [
    {
     "data": {
      "text/plain": [
       "0        11:30:00\n",
       "1        11:30:00\n",
       "2        11:30:00\n",
       "3        11:30:00\n",
       "4        11:30:00\n",
       "           ...   \n",
       "18095    20:30:00\n",
       "18096    20:30:00\n",
       "18097    20:30:00\n",
       "18098    20:30:00\n",
       "18099    20:30:00\n",
       "Name: Time, Length: 18100, dtype: object"
      ]
     },
     "execution_count": 22,
     "metadata": {},
     "output_type": "execute_result"
    }
   ],
   "source": [
    "df.pop('Time')"
   ]
  },
  {
   "cell_type": "code",
   "execution_count": 23,
   "id": "ff180ae7",
   "metadata": {},
   "outputs": [
    {
     "data": {
      "text/html": [
       "<div>\n",
       "<style scoped>\n",
       "    .dataframe tbody tr th:only-of-type {\n",
       "        vertical-align: middle;\n",
       "    }\n",
       "\n",
       "    .dataframe tbody tr th {\n",
       "        vertical-align: top;\n",
       "    }\n",
       "\n",
       "    .dataframe thead th {\n",
       "        text-align: right;\n",
       "    }\n",
       "</style>\n",
       "<table border=\"1\" class=\"dataframe\">\n",
       "  <thead>\n",
       "    <tr style=\"text-align: right;\">\n",
       "      <th></th>\n",
       "      <th>Shift</th>\n",
       "      <th>Day Type</th>\n",
       "      <th>Day</th>\n",
       "      <th>PartySize</th>\n",
       "      <th>MenuCateogry</th>\n",
       "      <th>MenuItem</th>\n",
       "      <th>ItemPrice</th>\n",
       "      <th>ItemQty</th>\n",
       "      <th>Month</th>\n",
       "      <th>Hour</th>\n",
       "    </tr>\n",
       "  </thead>\n",
       "  <tbody>\n",
       "    <tr>\n",
       "      <th>0</th>\n",
       "      <td>Lunch</td>\n",
       "      <td>Weekday</td>\n",
       "      <td>Tuesday</td>\n",
       "      <td>4</td>\n",
       "      <td>Starter</td>\n",
       "      <td>Gobi manchurian</td>\n",
       "      <td>14.00</td>\n",
       "      <td>1</td>\n",
       "      <td>1</td>\n",
       "      <td>11</td>\n",
       "    </tr>\n",
       "    <tr>\n",
       "      <th>1</th>\n",
       "      <td>Lunch</td>\n",
       "      <td>Weekday</td>\n",
       "      <td>Tuesday</td>\n",
       "      <td>4</td>\n",
       "      <td>Starter</td>\n",
       "      <td>Tasty flatbread</td>\n",
       "      <td>11.00</td>\n",
       "      <td>1</td>\n",
       "      <td>1</td>\n",
       "      <td>11</td>\n",
       "    </tr>\n",
       "    <tr>\n",
       "      <th>2</th>\n",
       "      <td>Lunch</td>\n",
       "      <td>Weekday</td>\n",
       "      <td>Tuesday</td>\n",
       "      <td>4</td>\n",
       "      <td>Vegetable specials</td>\n",
       "      <td>Sarson da saag</td>\n",
       "      <td>15.00</td>\n",
       "      <td>1</td>\n",
       "      <td>1</td>\n",
       "      <td>11</td>\n",
       "    </tr>\n",
       "    <tr>\n",
       "      <th>3</th>\n",
       "      <td>Lunch</td>\n",
       "      <td>Weekday</td>\n",
       "      <td>Tuesday</td>\n",
       "      <td>4</td>\n",
       "      <td>Vegetable specials</td>\n",
       "      <td>Paneer vindaloo</td>\n",
       "      <td>16.00</td>\n",
       "      <td>1</td>\n",
       "      <td>1</td>\n",
       "      <td>11</td>\n",
       "    </tr>\n",
       "    <tr>\n",
       "      <th>4</th>\n",
       "      <td>Lunch</td>\n",
       "      <td>Weekday</td>\n",
       "      <td>Tuesday</td>\n",
       "      <td>4</td>\n",
       "      <td>Breads</td>\n",
       "      <td>Garlic naan</td>\n",
       "      <td>3.50</td>\n",
       "      <td>2</td>\n",
       "      <td>1</td>\n",
       "      <td>11</td>\n",
       "    </tr>\n",
       "    <tr>\n",
       "      <th>...</th>\n",
       "      <td>...</td>\n",
       "      <td>...</td>\n",
       "      <td>...</td>\n",
       "      <td>...</td>\n",
       "      <td>...</td>\n",
       "      <td>...</td>\n",
       "      <td>...</td>\n",
       "      <td>...</td>\n",
       "      <td>...</td>\n",
       "      <td>...</td>\n",
       "    </tr>\n",
       "    <tr>\n",
       "      <th>18095</th>\n",
       "      <td>Dinner</td>\n",
       "      <td>Weekend</td>\n",
       "      <td>Sunday</td>\n",
       "      <td>0</td>\n",
       "      <td>Rice specials</td>\n",
       "      <td>Rice</td>\n",
       "      <td>5.00</td>\n",
       "      <td>1</td>\n",
       "      <td>6</td>\n",
       "      <td>20</td>\n",
       "    </tr>\n",
       "    <tr>\n",
       "      <th>18096</th>\n",
       "      <td>Dinner</td>\n",
       "      <td>Weekend</td>\n",
       "      <td>Sunday</td>\n",
       "      <td>0</td>\n",
       "      <td>Breads</td>\n",
       "      <td>Tandoori roti</td>\n",
       "      <td>2.75</td>\n",
       "      <td>1</td>\n",
       "      <td>6</td>\n",
       "      <td>20</td>\n",
       "    </tr>\n",
       "    <tr>\n",
       "      <th>18097</th>\n",
       "      <td>Dinner</td>\n",
       "      <td>Weekend</td>\n",
       "      <td>Sunday</td>\n",
       "      <td>0</td>\n",
       "      <td>Breads</td>\n",
       "      <td>Naan</td>\n",
       "      <td>2.75</td>\n",
       "      <td>4</td>\n",
       "      <td>6</td>\n",
       "      <td>20</td>\n",
       "    </tr>\n",
       "    <tr>\n",
       "      <th>18098</th>\n",
       "      <td>Dinner</td>\n",
       "      <td>Weekend</td>\n",
       "      <td>Sunday</td>\n",
       "      <td>0</td>\n",
       "      <td>Vegetable specials</td>\n",
       "      <td>Kadahi paneer</td>\n",
       "      <td>16.00</td>\n",
       "      <td>2</td>\n",
       "      <td>6</td>\n",
       "      <td>20</td>\n",
       "    </tr>\n",
       "    <tr>\n",
       "      <th>18099</th>\n",
       "      <td>Dinner</td>\n",
       "      <td>Weekend</td>\n",
       "      <td>Sunday</td>\n",
       "      <td>0</td>\n",
       "      <td>Breads</td>\n",
       "      <td>Garlic naan</td>\n",
       "      <td>3.50</td>\n",
       "      <td>2</td>\n",
       "      <td>6</td>\n",
       "      <td>20</td>\n",
       "    </tr>\n",
       "  </tbody>\n",
       "</table>\n",
       "<p>18100 rows × 10 columns</p>\n",
       "</div>"
      ],
      "text/plain": [
       "        Shift Day Type      Day  PartySize        MenuCateogry  \\\n",
       "0       Lunch  Weekday  Tuesday          4             Starter   \n",
       "1       Lunch  Weekday  Tuesday          4             Starter   \n",
       "2       Lunch  Weekday  Tuesday          4  Vegetable specials   \n",
       "3       Lunch  Weekday  Tuesday          4  Vegetable specials   \n",
       "4       Lunch  Weekday  Tuesday          4              Breads   \n",
       "...       ...      ...      ...        ...                 ...   \n",
       "18095  Dinner  Weekend   Sunday          0       Rice specials   \n",
       "18096  Dinner  Weekend   Sunday          0              Breads   \n",
       "18097  Dinner  Weekend   Sunday          0              Breads   \n",
       "18098  Dinner  Weekend   Sunday          0  Vegetable specials   \n",
       "18099  Dinner  Weekend   Sunday          0              Breads   \n",
       "\n",
       "              MenuItem  ItemPrice  ItemQty  Month  Hour  \n",
       "0      Gobi manchurian      14.00        1      1    11  \n",
       "1      Tasty flatbread      11.00        1      1    11  \n",
       "2       Sarson da saag      15.00        1      1    11  \n",
       "3      Paneer vindaloo      16.00        1      1    11  \n",
       "4          Garlic naan       3.50        2      1    11  \n",
       "...                ...        ...      ...    ...   ...  \n",
       "18095             Rice       5.00        1      6    20  \n",
       "18096    Tandoori roti       2.75        1      6    20  \n",
       "18097             Naan       2.75        4      6    20  \n",
       "18098    Kadahi paneer      16.00        2      6    20  \n",
       "18099      Garlic naan       3.50        2      6    20  \n",
       "\n",
       "[18100 rows x 10 columns]"
      ]
     },
     "execution_count": 23,
     "metadata": {},
     "output_type": "execute_result"
    }
   ],
   "source": [
    "df"
   ]
  },
  {
   "cell_type": "code",
   "execution_count": 24,
   "id": "488e2038",
   "metadata": {},
   "outputs": [],
   "source": [
    "def am_or_pm(x):\n",
    "    if x<12:\n",
    "        return 'AM'\n",
    "    return 'PM'\n",
    "df['AM/PM'] = df['Hour'].apply(am_or_pm)"
   ]
  },
  {
   "cell_type": "code",
   "execution_count": 25,
   "id": "ad2adab4",
   "metadata": {},
   "outputs": [],
   "source": [
    "non_veg =      ['Masala chicken wings','Cocktail chicken samosas', 'Chicken korma', 'Chicken biryani','Chicken tikka masala',\n",
    "           'Chicken saag','Kadahi lamb','Coconut chicken curry','Butter chicken','Fish pakora', 'Shrimp strips',\n",
    "           'Fish korma', 'Fish curry','Tasty sliders : chicken paneer', 'Spicy chicken bites','Tikka rice bowl : paneer | chicken'\n",
    "          ]\n",
    "def veg(x):\n",
    "    if x in non_veg:\n",
    "        return 'NV'\n",
    "    return 'V'\n",
    "df['NV/V'] = df['MenuItem'].apply(veg)"
   ]
  },
  {
   "cell_type": "code",
   "execution_count": 26,
   "id": "29c79edb",
   "metadata": {},
   "outputs": [
    {
     "data": {
      "text/html": [
       "<div>\n",
       "<style scoped>\n",
       "    .dataframe tbody tr th:only-of-type {\n",
       "        vertical-align: middle;\n",
       "    }\n",
       "\n",
       "    .dataframe tbody tr th {\n",
       "        vertical-align: top;\n",
       "    }\n",
       "\n",
       "    .dataframe thead th {\n",
       "        text-align: right;\n",
       "    }\n",
       "</style>\n",
       "<table border=\"1\" class=\"dataframe\">\n",
       "  <thead>\n",
       "    <tr style=\"text-align: right;\">\n",
       "      <th></th>\n",
       "      <th>Shift</th>\n",
       "      <th>Day Type</th>\n",
       "      <th>Day</th>\n",
       "      <th>PartySize</th>\n",
       "      <th>MenuCateogry</th>\n",
       "      <th>MenuItem</th>\n",
       "      <th>ItemPrice</th>\n",
       "      <th>ItemQty</th>\n",
       "      <th>Month</th>\n",
       "      <th>Hour</th>\n",
       "      <th>AM/PM</th>\n",
       "      <th>NV/V</th>\n",
       "    </tr>\n",
       "  </thead>\n",
       "  <tbody>\n",
       "    <tr>\n",
       "      <th>0</th>\n",
       "      <td>Lunch</td>\n",
       "      <td>Weekday</td>\n",
       "      <td>Tuesday</td>\n",
       "      <td>4</td>\n",
       "      <td>Starter</td>\n",
       "      <td>Gobi manchurian</td>\n",
       "      <td>14.0</td>\n",
       "      <td>1</td>\n",
       "      <td>1</td>\n",
       "      <td>11</td>\n",
       "      <td>AM</td>\n",
       "      <td>V</td>\n",
       "    </tr>\n",
       "    <tr>\n",
       "      <th>1</th>\n",
       "      <td>Lunch</td>\n",
       "      <td>Weekday</td>\n",
       "      <td>Tuesday</td>\n",
       "      <td>4</td>\n",
       "      <td>Starter</td>\n",
       "      <td>Tasty flatbread</td>\n",
       "      <td>11.0</td>\n",
       "      <td>1</td>\n",
       "      <td>1</td>\n",
       "      <td>11</td>\n",
       "      <td>AM</td>\n",
       "      <td>V</td>\n",
       "    </tr>\n",
       "  </tbody>\n",
       "</table>\n",
       "</div>"
      ],
      "text/plain": [
       "   Shift Day Type      Day  PartySize MenuCateogry         MenuItem  \\\n",
       "0  Lunch  Weekday  Tuesday          4      Starter  Gobi manchurian   \n",
       "1  Lunch  Weekday  Tuesday          4      Starter  Tasty flatbread   \n",
       "\n",
       "   ItemPrice  ItemQty  Month  Hour AM/PM NV/V  \n",
       "0       14.0        1      1    11    AM    V  \n",
       "1       11.0        1      1    11    AM    V  "
      ]
     },
     "execution_count": 26,
     "metadata": {},
     "output_type": "execute_result"
    }
   ],
   "source": [
    "df.head(2)"
   ]
  },
  {
   "cell_type": "markdown",
   "id": "ec31211d",
   "metadata": {},
   "source": [
    "## EDA"
   ]
  },
  {
   "cell_type": "code",
   "execution_count": 27,
   "id": "c8b9c676",
   "metadata": {},
   "outputs": [
    {
     "data": {
      "text/html": [
       "<div>\n",
       "<style scoped>\n",
       "    .dataframe tbody tr th:only-of-type {\n",
       "        vertical-align: middle;\n",
       "    }\n",
       "\n",
       "    .dataframe tbody tr th {\n",
       "        vertical-align: top;\n",
       "    }\n",
       "\n",
       "    .dataframe thead th {\n",
       "        text-align: right;\n",
       "    }\n",
       "</style>\n",
       "<table border=\"1\" class=\"dataframe\">\n",
       "  <thead>\n",
       "    <tr style=\"text-align: right;\">\n",
       "      <th></th>\n",
       "      <th>PartySize</th>\n",
       "      <th>ItemPrice</th>\n",
       "      <th>ItemQty</th>\n",
       "      <th>Month</th>\n",
       "      <th>Hour</th>\n",
       "    </tr>\n",
       "  </thead>\n",
       "  <tbody>\n",
       "    <tr>\n",
       "      <th>PartySize</th>\n",
       "      <td>1.000000</td>\n",
       "      <td>-8.626821e-02</td>\n",
       "      <td>-3.181237e-01</td>\n",
       "      <td>1.132586e-03</td>\n",
       "      <td>1.052570e-01</td>\n",
       "    </tr>\n",
       "    <tr>\n",
       "      <th>ItemPrice</th>\n",
       "      <td>-0.086268</td>\n",
       "      <td>1.000000e+00</td>\n",
       "      <td>-1.969717e-01</td>\n",
       "      <td>-2.631109e-15</td>\n",
       "      <td>-8.733864e-02</td>\n",
       "    </tr>\n",
       "    <tr>\n",
       "      <th>ItemQty</th>\n",
       "      <td>-0.318124</td>\n",
       "      <td>-1.969717e-01</td>\n",
       "      <td>1.000000e+00</td>\n",
       "      <td>6.226891e-15</td>\n",
       "      <td>5.003447e-02</td>\n",
       "    </tr>\n",
       "    <tr>\n",
       "      <th>Month</th>\n",
       "      <td>0.001133</td>\n",
       "      <td>-2.631109e-15</td>\n",
       "      <td>6.226891e-15</td>\n",
       "      <td>1.000000e+00</td>\n",
       "      <td>2.026849e-15</td>\n",
       "    </tr>\n",
       "    <tr>\n",
       "      <th>Hour</th>\n",
       "      <td>0.105257</td>\n",
       "      <td>-8.733864e-02</td>\n",
       "      <td>5.003447e-02</td>\n",
       "      <td>2.026849e-15</td>\n",
       "      <td>1.000000e+00</td>\n",
       "    </tr>\n",
       "  </tbody>\n",
       "</table>\n",
       "</div>"
      ],
      "text/plain": [
       "           PartySize     ItemPrice       ItemQty         Month          Hour\n",
       "PartySize   1.000000 -8.626821e-02 -3.181237e-01  1.132586e-03  1.052570e-01\n",
       "ItemPrice  -0.086268  1.000000e+00 -1.969717e-01 -2.631109e-15 -8.733864e-02\n",
       "ItemQty    -0.318124 -1.969717e-01  1.000000e+00  6.226891e-15  5.003447e-02\n",
       "Month       0.001133 -2.631109e-15  6.226891e-15  1.000000e+00  2.026849e-15\n",
       "Hour        0.105257 -8.733864e-02  5.003447e-02  2.026849e-15  1.000000e+00"
      ]
     },
     "execution_count": 27,
     "metadata": {},
     "output_type": "execute_result"
    }
   ],
   "source": [
    "df.corr()"
   ]
  },
  {
   "cell_type": "code",
   "execution_count": 28,
   "id": "ddff0d43",
   "metadata": {},
   "outputs": [
    {
     "data": {
      "application/javascript": [
       "\n",
       "        if (window._pyforest_update_imports_cell) { window._pyforest_update_imports_cell('import pandas as pd\\nimport matplotlib.pyplot as plt'); }\n",
       "    "
      ],
      "text/plain": [
       "<IPython.core.display.Javascript object>"
      ]
     },
     "metadata": {},
     "output_type": "display_data"
    },
    {
     "data": {
      "application/javascript": [
       "\n",
       "        if (window._pyforest_update_imports_cell) { window._pyforest_update_imports_cell('import seaborn as sns\\nimport pandas as pd\\nimport matplotlib.pyplot as plt'); }\n",
       "    "
      ],
      "text/plain": [
       "<IPython.core.display.Javascript object>"
      ]
     },
     "metadata": {},
     "output_type": "display_data"
    },
    {
     "data": {
      "application/javascript": [
       "\n",
       "        if (window._pyforest_update_imports_cell) { window._pyforest_update_imports_cell('import seaborn as sns\\nimport pandas as pd\\nimport matplotlib.pyplot as plt'); }\n",
       "    "
      ],
      "text/plain": [
       "<IPython.core.display.Javascript object>"
      ]
     },
     "metadata": {},
     "output_type": "display_data"
    },
    {
     "data": {
      "application/javascript": [
       "\n",
       "        if (window._pyforest_update_imports_cell) { window._pyforest_update_imports_cell('import seaborn as sns\\nimport pandas as pd\\nimport matplotlib.pyplot as plt'); }\n",
       "    "
      ],
      "text/plain": [
       "<IPython.core.display.Javascript object>"
      ]
     },
     "metadata": {},
     "output_type": "display_data"
    },
    {
     "data": {
      "application/javascript": [
       "\n",
       "        if (window._pyforest_update_imports_cell) { window._pyforest_update_imports_cell('import seaborn as sns\\nimport pandas as pd\\nimport matplotlib.pyplot as plt'); }\n",
       "    "
      ],
      "text/plain": [
       "<IPython.core.display.Javascript object>"
      ]
     },
     "metadata": {},
     "output_type": "display_data"
    },
    {
     "data": {
      "application/javascript": [
       "\n",
       "        if (window._pyforest_update_imports_cell) { window._pyforest_update_imports_cell('import seaborn as sns\\nimport pandas as pd\\nimport matplotlib.pyplot as plt'); }\n",
       "    "
      ],
      "text/plain": [
       "<IPython.core.display.Javascript object>"
      ]
     },
     "metadata": {},
     "output_type": "display_data"
    },
    {
     "data": {
      "application/javascript": [
       "\n",
       "        if (window._pyforest_update_imports_cell) { window._pyforest_update_imports_cell('import seaborn as sns\\nimport pandas as pd\\nimport matplotlib.pyplot as plt'); }\n",
       "    "
      ],
      "text/plain": [
       "<IPython.core.display.Javascript object>"
      ]
     },
     "metadata": {},
     "output_type": "display_data"
    },
    {
     "data": {
      "application/javascript": [
       "\n",
       "        if (window._pyforest_update_imports_cell) { window._pyforest_update_imports_cell('import seaborn as sns\\nimport pandas as pd\\nimport matplotlib.pyplot as plt'); }\n",
       "    "
      ],
      "text/plain": [
       "<IPython.core.display.Javascript object>"
      ]
     },
     "metadata": {},
     "output_type": "display_data"
    },
    {
     "data": {
      "application/javascript": [
       "\n",
       "        if (window._pyforest_update_imports_cell) { window._pyforest_update_imports_cell('import seaborn as sns\\nimport pandas as pd\\nimport matplotlib.pyplot as plt'); }\n",
       "    "
      ],
      "text/plain": [
       "<IPython.core.display.Javascript object>"
      ]
     },
     "metadata": {},
     "output_type": "display_data"
    },
    {
     "data": {
      "application/javascript": [
       "\n",
       "        if (window._pyforest_update_imports_cell) { window._pyforest_update_imports_cell('import seaborn as sns\\nimport pandas as pd\\nimport matplotlib.pyplot as plt'); }\n",
       "    "
      ],
      "text/plain": [
       "<IPython.core.display.Javascript object>"
      ]
     },
     "metadata": {},
     "output_type": "display_data"
    },
    {
     "data": {
      "application/javascript": [
       "\n",
       "        if (window._pyforest_update_imports_cell) { window._pyforest_update_imports_cell('import seaborn as sns\\nimport pandas as pd\\nimport matplotlib.pyplot as plt'); }\n",
       "    "
      ],
      "text/plain": [
       "<IPython.core.display.Javascript object>"
      ]
     },
     "metadata": {},
     "output_type": "display_data"
    },
    {
     "data": {
      "application/javascript": [
       "\n",
       "        if (window._pyforest_update_imports_cell) { window._pyforest_update_imports_cell('import seaborn as sns\\nimport pandas as pd\\nimport matplotlib.pyplot as plt'); }\n",
       "    "
      ],
      "text/plain": [
       "<IPython.core.display.Javascript object>"
      ]
     },
     "metadata": {},
     "output_type": "display_data"
    },
    {
     "data": {
      "image/png": "[encoded data removed]",
      "text/plain": [
       "<Figure size 864x2160 with 10 Axes>"
      ]
     },
     "metadata": {
      "needs_background": "light"
     },
     "output_type": "display_data"
    }
   ],
   "source": [
    "cat_cols = list(df.columns)\n",
    "cat_cols.remove('ItemPrice')\n",
    "cat_cols.remove('MenuItem')\n",
    "fig,axarr = plt.subplots(nrows=len(cat_cols),figsize=(12,30))\n",
    "for i in range(len(cat_cols)):\n",
    "    sns.countplot(x=cat_cols[i],ax=axarr[i],data=df)\n",
    "plt.tight_layout();"
   ]
  },
  {
   "cell_type": "markdown",
   "id": "2239b4b1",
   "metadata": {},
   "source": [
    "From the above plot let's get some inferences\n",
    "1. The customers come to the restaurant mostly during the 'Lunch' shift as evident from the shift count value.\n",
    "2. One would assume that weekend count will be the most but the count for weekday is more. This is because it is the count    of 5 weekdays to count of 2 weekend days. \n",
    "3. Sales on all days is almost the same excepts Monday. \n",
    "4. People come to the hotel to party as a group of 5. Based on this the hotel could give some discounts to party size of 5    to bring in more customers.\n",
    "5. Breads is the most preferred food in the MenuCategory.\n",
    "6. People order just one quantity most often.\n",
    "7. Sales on almost all the months is the same.\n",
    "8. Most customers come to eat around 12 which is inline with the higher 'Lunch' count. \n",
    "9. Count for PM is more because the hotel opens around 11 AM.\n",
    "10. Most of the customers go for vegetarian foods. Note that vegetarian includes sweets and snacks as well."
   ]
  },
  {
   "cell_type": "code",
   "execution_count": 29,
   "id": "62ecfd7e",
   "metadata": {},
   "outputs": [
    {
     "data": {
      "text/plain": [
       "(3620.0, 9050.0)"
      ]
     },
     "execution_count": 29,
     "metadata": {},
     "output_type": "execute_result"
    }
   ],
   "source": [
    "len(df['Day Type']=='Weekday')/5,len(df['Day Type']=='Weekend')/2"
   ]
  },
  {
   "cell_type": "markdown",
   "id": "f9cc4ba8",
   "metadata": {},
   "source": [
    "The above values are average sales on a weekday and average sales on a weekend. It clearly indicates that most customers come during the weekend"
   ]
  },
  {
   "cell_type": "code",
   "execution_count": 30,
   "id": "1272b3fe",
   "metadata": {},
   "outputs": [
    {
     "data": {
      "application/javascript": [
       "\n",
       "        if (window._pyforest_update_imports_cell) { window._pyforest_update_imports_cell('import seaborn as sns\\nimport pandas as pd\\nimport matplotlib.pyplot as plt'); }\n",
       "    "
      ],
      "text/plain": [
       "<IPython.core.display.Javascript object>"
      ]
     },
     "metadata": {},
     "output_type": "display_data"
    },
    {
     "data": {
      "application/javascript": [
       "\n",
       "        if (window._pyforest_update_imports_cell) { window._pyforest_update_imports_cell('import seaborn as sns\\nimport pandas as pd\\nimport matplotlib.pyplot as plt'); }\n",
       "    "
      ],
      "text/plain": [
       "<IPython.core.display.Javascript object>"
      ]
     },
     "metadata": {},
     "output_type": "display_data"
    },
    {
     "data": {
      "application/javascript": [
       "\n",
       "        if (window._pyforest_update_imports_cell) { window._pyforest_update_imports_cell('import seaborn as sns\\nimport pandas as pd\\nimport matplotlib.pyplot as plt'); }\n",
       "    "
      ],
      "text/plain": [
       "<IPython.core.display.Javascript object>"
      ]
     },
     "metadata": {},
     "output_type": "display_data"
    },
    {
     "data": {
      "application/javascript": [
       "\n",
       "        if (window._pyforest_update_imports_cell) { window._pyforest_update_imports_cell('import seaborn as sns\\nimport pandas as pd\\nimport matplotlib.pyplot as plt'); }\n",
       "    "
      ],
      "text/plain": [
       "<IPython.core.display.Javascript object>"
      ]
     },
     "metadata": {},
     "output_type": "display_data"
    },
    {
     "data": {
      "image/png": "[encoded data removed]",
      "text/plain": [
       "<Figure size 864x864 with 1 Axes>"
      ]
     },
     "metadata": {
      "needs_background": "light"
     },
     "output_type": "display_data"
    }
   ],
   "source": [
    "plt.figure(figsize=(12,12))\n",
    "df['MenuItem'].value_counts().plot(kind='bar')\n",
    "plt.xlabel('Menu Item')\n",
    "plt.ylabel('Count')\n",
    "plt.title('Count of each Menu Item');"
   ]
  },
  {
   "cell_type": "markdown",
   "id": "8ef14d55",
   "metadata": {},
   "source": [
    "Garlic Naan is the most sought after one"
   ]
  },
  {
   "cell_type": "code",
   "execution_count": 35,
   "id": "e89a2fb6",
   "metadata": {},
   "outputs": [
    {
     "data": {
      "text/plain": [
       "array([1, 2, 3, 4, 5, 6], dtype=int64)"
      ]
     },
     "execution_count": 35,
     "metadata": {},
     "output_type": "execute_result"
    }
   ],
   "source": [
    "df['Month'].unique()"
   ]
  },
  {
   "cell_type": "code",
   "execution_count": 36,
   "id": "b2b719b8",
   "metadata": {},
   "outputs": [],
   "source": [
    "sales_for_a_month = 6*[0]\n",
    "for i in range(len(df)):\n",
    "    sales_for_a_month[df.iloc[i]['Month']-1] += df.iloc[i]['ItemPrice']*df.iloc[i]['ItemQty']"
   ]
  },
  {
   "cell_type": "code",
   "execution_count": 37,
   "id": "54290f34",
   "metadata": {},
   "outputs": [
    {
     "data": {
      "application/javascript": [
       "\n",
       "        if (window._pyforest_update_imports_cell) { window._pyforest_update_imports_cell('import seaborn as sns\\nimport pandas as pd\\nimport matplotlib.pyplot as plt'); }\n",
       "    "
      ],
      "text/plain": [
       "<IPython.core.display.Javascript object>"
      ]
     },
     "metadata": {},
     "output_type": "display_data"
    },
    {
     "data": {
      "application/javascript": [
       "\n",
       "        if (window._pyforest_update_imports_cell) { window._pyforest_update_imports_cell('import seaborn as sns\\nimport pandas as pd\\nimport matplotlib.pyplot as plt'); }\n",
       "    "
      ],
      "text/plain": [
       "<IPython.core.display.Javascript object>"
      ]
     },
     "metadata": {},
     "output_type": "display_data"
    },
    {
     "data": {
      "application/javascript": [
       "\n",
       "        if (window._pyforest_update_imports_cell) { window._pyforest_update_imports_cell('import seaborn as sns\\nimport pandas as pd\\nimport matplotlib.pyplot as plt'); }\n",
       "    "
      ],
      "text/plain": [
       "<IPython.core.display.Javascript object>"
      ]
     },
     "metadata": {},
     "output_type": "display_data"
    },
    {
     "data": {
      "application/javascript": [
       "\n",
       "        if (window._pyforest_update_imports_cell) { window._pyforest_update_imports_cell('import seaborn as sns\\nimport pandas as pd\\nimport matplotlib.pyplot as plt'); }\n",
       "    "
      ],
      "text/plain": [
       "<IPython.core.display.Javascript object>"
      ]
     },
     "metadata": {},
     "output_type": "display_data"
    },
    {
     "data": {
      "image/png": "[encoded data removed]",
      "text/plain": [
       "<Figure size 432x288 with 1 Axes>"
      ]
     },
     "metadata": {
      "needs_background": "light"
     },
     "output_type": "display_data"
    }
   ],
   "source": [
    "plt.plot([1,2,3,4,5,6],sales_for_a_month,marker='o',color='red',linestyle='--')\n",
    "plt.xlabel('Month')\n",
    "plt.ylabel('Amount of sales')\n",
    "plt.title('TREND OF SALES');"
   ]
  },
  {
   "cell_type": "markdown",
   "id": "f62c883f",
   "metadata": {},
   "source": [
    "The above plot shows that the revenue the hotel is making is erratic. There is constancy in their sales. This means that they are lacking an effective business model. Based on the above plot let's see the trend for weekends and weekdays"
   ]
  },
  {
   "cell_type": "code",
   "execution_count": 38,
   "id": "92b6ecb0",
   "metadata": {},
   "outputs": [],
   "source": [
    "sales_for_a_month_wd = 6*[0]\n",
    "sales_for_a_month_we = 6*[0]\n",
    "for i in range(len(df)):\n",
    "    if df.iloc[i]['Day Type'] == 'Weekday':\n",
    "        sales_for_a_month_wd[df.iloc[i]['Month']-1] += df.iloc[i]['ItemPrice']*df.iloc[i]['ItemQty']\n",
    "    else:\n",
    "        sales_for_a_month_we[df.iloc[i]['Month']-1] += df.iloc[i]['ItemPrice']*df.iloc[i]['ItemQty']"
   ]
  },
  {
   "cell_type": "code",
   "execution_count": 39,
   "id": "4ffe8ece",
   "metadata": {},
   "outputs": [
    {
     "data": {
      "application/javascript": [
       "\n",
       "        if (window._pyforest_update_imports_cell) { window._pyforest_update_imports_cell('import seaborn as sns\\nimport pandas as pd\\nimport matplotlib.pyplot as plt'); }\n",
       "    "
      ],
      "text/plain": [
       "<IPython.core.display.Javascript object>"
      ]
     },
     "metadata": {},
     "output_type": "display_data"
    },
    {
     "data": {
      "application/javascript": [
       "\n",
       "        if (window._pyforest_update_imports_cell) { window._pyforest_update_imports_cell('import seaborn as sns\\nimport pandas as pd\\nimport matplotlib.pyplot as plt'); }\n",
       "    "
      ],
      "text/plain": [
       "<IPython.core.display.Javascript object>"
      ]
     },
     "metadata": {},
     "output_type": "display_data"
    },
    {
     "data": {
      "application/javascript": [
       "\n",
       "        if (window._pyforest_update_imports_cell) { window._pyforest_update_imports_cell('import seaborn as sns\\nimport pandas as pd\\nimport matplotlib.pyplot as plt'); }\n",
       "    "
      ],
      "text/plain": [
       "<IPython.core.display.Javascript object>"
      ]
     },
     "metadata": {},
     "output_type": "display_data"
    },
    {
     "data": {
      "application/javascript": [
       "\n",
       "        if (window._pyforest_update_imports_cell) { window._pyforest_update_imports_cell('import seaborn as sns\\nimport pandas as pd\\nimport matplotlib.pyplot as plt'); }\n",
       "    "
      ],
      "text/plain": [
       "<IPython.core.display.Javascript object>"
      ]
     },
     "metadata": {},
     "output_type": "display_data"
    },
    {
     "data": {
      "application/javascript": [
       "\n",
       "        if (window._pyforest_update_imports_cell) { window._pyforest_update_imports_cell('import seaborn as sns\\nimport pandas as pd\\nimport matplotlib.pyplot as plt'); }\n",
       "    "
      ],
      "text/plain": [
       "<IPython.core.display.Javascript object>"
      ]
     },
     "metadata": {},
     "output_type": "display_data"
    },
    {
     "data": {
      "application/javascript": [
       "\n",
       "        if (window._pyforest_update_imports_cell) { window._pyforest_update_imports_cell('import seaborn as sns\\nimport pandas as pd\\nimport matplotlib.pyplot as plt'); }\n",
       "    "
      ],
      "text/plain": [
       "<IPython.core.display.Javascript object>"
      ]
     },
     "metadata": {},
     "output_type": "display_data"
    },
    {
     "data": {
      "application/javascript": [
       "\n",
       "        if (window._pyforest_update_imports_cell) { window._pyforest_update_imports_cell('import seaborn as sns\\nimport pandas as pd\\nimport matplotlib.pyplot as plt'); }\n",
       "    "
      ],
      "text/plain": [
       "<IPython.core.display.Javascript object>"
      ]
     },
     "metadata": {},
     "output_type": "display_data"
    },
    {
     "data": {
      "image/png": "[encoded data removed]",
      "text/plain": [
       "<Figure size 432x288 with 1 Axes>"
      ]
     },
     "metadata": {
      "needs_background": "light"
     },
     "output_type": "display_data"
    }
   ],
   "source": [
    "plt.plot([1,2,3,4,5,6],sales_for_a_month_wd,marker='o',color='red',linestyle='--',label='Weekday')\n",
    "plt.plot([1,2,3,4,5,6],sales_for_a_month_we,marker='o',color='blue',linestyle='--',label='Weekend')\n",
    "plt.xlabel('Month')\n",
    "plt.ylabel('Amount of sales')\n",
    "plt.title('TREND OF SALES')\n",
    "plt.grid()\n",
    "plt.legend(loc = 'best');"
   ]
  },
  {
   "cell_type": "markdown",
   "id": "3ed87a13",
   "metadata": {},
   "source": [
    "Towards the end the restaurants weekend sales seems to have picked up but the weekday sales has not been increasing."
   ]
  },
  {
   "cell_type": "code",
   "execution_count": 40,
   "id": "a8040992",
   "metadata": {},
   "outputs": [],
   "source": [
    "sales_for_a_month_mon = 6*[0]\n",
    "sales_for_a_month_tue = 6*[0]\n",
    "sales_for_a_month_wed = 6*[0]\n",
    "sales_for_a_month_thu = 6*[0]\n",
    "sales_for_a_month_fri = 6*[0]\n",
    "sales_for_a_month_sat = 6*[0]\n",
    "sales_for_a_month_sun = 6*[0]\n",
    "for i in range(len(df)):\n",
    "    if df.iloc[i]['Day'] == 'Monday':\n",
    "        sales_for_a_month_mon[df.iloc[i]['Month']-1] += df.iloc[i]['ItemPrice']*df.iloc[i]['ItemQty']\n",
    "    elif df.iloc[i]['Day']=='Tuesday':\n",
    "        sales_for_a_month_tue[df.iloc[i]['Month']-1] += df.iloc[i]['ItemPrice']*df.iloc[i]['ItemQty']\n",
    "    elif df.iloc[i]['Day']=='Wednesday':\n",
    "        sales_for_a_month_wed[df.iloc[i]['Month']-1] += df.iloc[i]['ItemPrice']*df.iloc[i]['ItemQty']\n",
    "    elif df.iloc[i]['Day']=='Thursday':\n",
    "        sales_for_a_month_thu[df.iloc[i]['Month']-1] += df.iloc[i]['ItemPrice']*df.iloc[i]['ItemQty']\n",
    "    elif df.iloc[i]['Day']=='Friday':\n",
    "        sales_for_a_month_fri[df.iloc[i]['Month']-1] += df.iloc[i]['ItemPrice']*df.iloc[i]['ItemQty']\n",
    "    elif df.iloc[i]['Day']=='Saturday':\n",
    "        sales_for_a_month_sat[df.iloc[i]['Month']-1] += df.iloc[i]['ItemPrice']*df.iloc[i]['ItemQty']\n",
    "    else:\n",
    "        sales_for_a_month_sun[df.iloc[i]['Month']-1] += df.iloc[i]['ItemPrice']*df.iloc[i]['ItemQty']"
   ]
  },
  {
   "cell_type": "code",
   "execution_count": 41,
   "id": "dd896e8b",
   "metadata": {},
   "outputs": [
    {
     "data": {
      "application/javascript": [
       "\n",
       "        if (window._pyforest_update_imports_cell) { window._pyforest_update_imports_cell('import seaborn as sns\\nimport pandas as pd\\nimport matplotlib.pyplot as plt'); }\n",
       "    "
      ],
      "text/plain": [
       "<IPython.core.display.Javascript object>"
      ]
     },
     "metadata": {},
     "output_type": "display_data"
    },
    {
     "data": {
      "application/javascript": [
       "\n",
       "        if (window._pyforest_update_imports_cell) { window._pyforest_update_imports_cell('import seaborn as sns\\nimport pandas as pd\\nimport matplotlib.pyplot as plt'); }\n",
       "    "
      ],
      "text/plain": [
       "<IPython.core.display.Javascript object>"
      ]
     },
     "metadata": {},
     "output_type": "display_data"
    },
    {
     "data": {
      "application/javascript": [
       "\n",
       "        if (window._pyforest_update_imports_cell) { window._pyforest_update_imports_cell('import seaborn as sns\\nimport pandas as pd\\nimport matplotlib.pyplot as plt'); }\n",
       "    "
      ],
      "text/plain": [
       "<IPython.core.display.Javascript object>"
      ]
     },
     "metadata": {},
     "output_type": "display_data"
    },
    {
     "data": {
      "application/javascript": [
       "\n",
       "        if (window._pyforest_update_imports_cell) { window._pyforest_update_imports_cell('import seaborn as sns\\nimport pandas as pd\\nimport matplotlib.pyplot as plt'); }\n",
       "    "
      ],
      "text/plain": [
       "<IPython.core.display.Javascript object>"
      ]
     },
     "metadata": {},
     "output_type": "display_data"
    },
    {
     "data": {
      "application/javascript": [
       "\n",
       "        if (window._pyforest_update_imports_cell) { window._pyforest_update_imports_cell('import seaborn as sns\\nimport pandas as pd\\nimport matplotlib.pyplot as plt'); }\n",
       "    "
      ],
      "text/plain": [
       "<IPython.core.display.Javascript object>"
      ]
     },
     "metadata": {},
     "output_type": "display_data"
    },
    {
     "data": {
      "application/javascript": [
       "\n",
       "        if (window._pyforest_update_imports_cell) { window._pyforest_update_imports_cell('import seaborn as sns\\nimport pandas as pd\\nimport matplotlib.pyplot as plt'); }\n",
       "    "
      ],
      "text/plain": [
       "<IPython.core.display.Javascript object>"
      ]
     },
     "metadata": {},
     "output_type": "display_data"
    },
    {
     "data": {
      "application/javascript": [
       "\n",
       "        if (window._pyforest_update_imports_cell) { window._pyforest_update_imports_cell('import seaborn as sns\\nimport pandas as pd\\nimport matplotlib.pyplot as plt'); }\n",
       "    "
      ],
      "text/plain": [
       "<IPython.core.display.Javascript object>"
      ]
     },
     "metadata": {},
     "output_type": "display_data"
    },
    {
     "data": {
      "application/javascript": [
       "\n",
       "        if (window._pyforest_update_imports_cell) { window._pyforest_update_imports_cell('import seaborn as sns\\nimport pandas as pd\\nimport matplotlib.pyplot as plt'); }\n",
       "    "
      ],
      "text/plain": [
       "<IPython.core.display.Javascript object>"
      ]
     },
     "metadata": {},
     "output_type": "display_data"
    },
    {
     "data": {
      "application/javascript": [
       "\n",
       "        if (window._pyforest_update_imports_cell) { window._pyforest_update_imports_cell('import seaborn as sns\\nimport pandas as pd\\nimport matplotlib.pyplot as plt'); }\n",
       "    "
      ],
      "text/plain": [
       "<IPython.core.display.Javascript object>"
      ]
     },
     "metadata": {},
     "output_type": "display_data"
    },
    {
     "data": {
      "application/javascript": [
       "\n",
       "        if (window._pyforest_update_imports_cell) { window._pyforest_update_imports_cell('import seaborn as sns\\nimport pandas as pd\\nimport matplotlib.pyplot as plt'); }\n",
       "    "
      ],
      "text/plain": [
       "<IPython.core.display.Javascript object>"
      ]
     },
     "metadata": {},
     "output_type": "display_data"
    },
    {
     "data": {
      "application/javascript": [
       "\n",
       "        if (window._pyforest_update_imports_cell) { window._pyforest_update_imports_cell('import seaborn as sns\\nimport pandas as pd\\nimport matplotlib.pyplot as plt'); }\n",
       "    "
      ],
      "text/plain": [
       "<IPython.core.display.Javascript object>"
      ]
     },
     "metadata": {},
     "output_type": "display_data"
    },
    {
     "data": {
      "application/javascript": [
       "\n",
       "        if (window._pyforest_update_imports_cell) { window._pyforest_update_imports_cell('import seaborn as sns\\nimport pandas as pd\\nimport matplotlib.pyplot as plt'); }\n",
       "    "
      ],
      "text/plain": [
       "<IPython.core.display.Javascript object>"
      ]
     },
     "metadata": {},
     "output_type": "display_data"
    },
    {
     "data": {
      "application/javascript": [
       "\n",
       "        if (window._pyforest_update_imports_cell) { window._pyforest_update_imports_cell('import seaborn as sns\\nimport pandas as pd\\nimport matplotlib.pyplot as plt'); }\n",
       "    "
      ],
      "text/plain": [
       "<IPython.core.display.Javascript object>"
      ]
     },
     "metadata": {},
     "output_type": "display_data"
    },
    {
     "data": {
      "image/png": "[encoded data removed]",
      "text/plain": [
       "<Figure size 2000x800 with 1 Axes>"
      ]
     },
     "metadata": {
      "needs_background": "light"
     },
     "output_type": "display_data"
    }
   ],
   "source": [
    "plt.figure(figsize=(10,4),dpi=200)\n",
    "x_ax = [1,2,3,4,5,6]\n",
    "plt.plot(x_ax,sales_for_a_month_mon,color='red',marker='o',linestyle='--',label='Monday')\n",
    "plt.plot(x_ax,sales_for_a_month_tue,color='blue',marker='o',linestyle='--',label='Tuesday')\n",
    "plt.plot(x_ax,sales_for_a_month_wed,color='yellow',marker='o',linestyle='--',label='Wednesday')\n",
    "plt.plot(x_ax,sales_for_a_month_thu,color='green',marker='o',linestyle='--',label='Thursday')\n",
    "plt.plot(x_ax,sales_for_a_month_fri,color='black',marker='o',linestyle='--',label='Friday')\n",
    "plt.plot(x_ax,sales_for_a_month_sat,color='orange',marker='o',linestyle='--',label='Saturday')\n",
    "plt.plot(x_ax,sales_for_a_month_sun,color='brown',marker='o',linestyle='--',label='Sunday')\n",
    "plt.xlabel('Month')\n",
    "plt.ylabel('Amount of sales')\n",
    "plt.title('TREND OF SALES')\n",
    "plt.grid()\n",
    "plt.legend(loc = 'best');"
   ]
  },
  {
   "cell_type": "code",
   "execution_count": 42,
   "id": "8af0818a",
   "metadata": {},
   "outputs": [
    {
     "data": {
      "text/html": [
       "<div>\n",
       "<style scoped>\n",
       "    .dataframe tbody tr th:only-of-type {\n",
       "        vertical-align: middle;\n",
       "    }\n",
       "\n",
       "    .dataframe tbody tr th {\n",
       "        vertical-align: top;\n",
       "    }\n",
       "\n",
       "    .dataframe thead th {\n",
       "        text-align: right;\n",
       "    }\n",
       "</style>\n",
       "<table border=\"1\" class=\"dataframe\">\n",
       "  <thead>\n",
       "    <tr style=\"text-align: right;\">\n",
       "      <th></th>\n",
       "      <th>Shift</th>\n",
       "      <th>Day Type</th>\n",
       "      <th>Day</th>\n",
       "      <th>PartySize</th>\n",
       "      <th>MenuCateogry</th>\n",
       "      <th>MenuItem</th>\n",
       "      <th>ItemPrice</th>\n",
       "      <th>ItemQty</th>\n",
       "      <th>Month</th>\n",
       "      <th>Hour</th>\n",
       "      <th>AM/PM</th>\n",
       "      <th>NV/V</th>\n",
       "    </tr>\n",
       "  </thead>\n",
       "  <tbody>\n",
       "    <tr>\n",
       "      <th>19</th>\n",
       "      <td>Lunch</td>\n",
       "      <td>Weekday</td>\n",
       "      <td>Tuesday</td>\n",
       "      <td>5</td>\n",
       "      <td>Starter</td>\n",
       "      <td>Vegetable samosa</td>\n",
       "      <td>11.0</td>\n",
       "      <td>1</td>\n",
       "      <td>1</td>\n",
       "      <td>12</td>\n",
       "      <td>PM</td>\n",
       "      <td>V</td>\n",
       "    </tr>\n",
       "    <tr>\n",
       "      <th>20</th>\n",
       "      <td>Lunch</td>\n",
       "      <td>Weekday</td>\n",
       "      <td>Tuesday</td>\n",
       "      <td>5</td>\n",
       "      <td>Starter</td>\n",
       "      <td>Chaat papri</td>\n",
       "      <td>11.0</td>\n",
       "      <td>2</td>\n",
       "      <td>1</td>\n",
       "      <td>12</td>\n",
       "      <td>PM</td>\n",
       "      <td>V</td>\n",
       "    </tr>\n",
       "    <tr>\n",
       "      <th>21</th>\n",
       "      <td>Lunch</td>\n",
       "      <td>Weekday</td>\n",
       "      <td>Tuesday</td>\n",
       "      <td>5</td>\n",
       "      <td>Vegetable specials</td>\n",
       "      <td>Baingan bartha</td>\n",
       "      <td>16.0</td>\n",
       "      <td>1</td>\n",
       "      <td>1</td>\n",
       "      <td>12</td>\n",
       "      <td>PM</td>\n",
       "      <td>V</td>\n",
       "    </tr>\n",
       "    <tr>\n",
       "      <th>22</th>\n",
       "      <td>Lunch</td>\n",
       "      <td>Weekday</td>\n",
       "      <td>Tuesday</td>\n",
       "      <td>5</td>\n",
       "      <td>Vegetable specials</td>\n",
       "      <td>Malai kofta</td>\n",
       "      <td>16.0</td>\n",
       "      <td>2</td>\n",
       "      <td>1</td>\n",
       "      <td>12</td>\n",
       "      <td>PM</td>\n",
       "      <td>V</td>\n",
       "    </tr>\n",
       "    <tr>\n",
       "      <th>23</th>\n",
       "      <td>Lunch</td>\n",
       "      <td>Weekday</td>\n",
       "      <td>Tuesday</td>\n",
       "      <td>5</td>\n",
       "      <td>Chicken specials</td>\n",
       "      <td>Chicken saag</td>\n",
       "      <td>18.0</td>\n",
       "      <td>1</td>\n",
       "      <td>1</td>\n",
       "      <td>12</td>\n",
       "      <td>PM</td>\n",
       "      <td>NV</td>\n",
       "    </tr>\n",
       "    <tr>\n",
       "      <th>...</th>\n",
       "      <td>...</td>\n",
       "      <td>...</td>\n",
       "      <td>...</td>\n",
       "      <td>...</td>\n",
       "      <td>...</td>\n",
       "      <td>...</td>\n",
       "      <td>...</td>\n",
       "      <td>...</td>\n",
       "      <td>...</td>\n",
       "      <td>...</td>\n",
       "      <td>...</td>\n",
       "      <td>...</td>\n",
       "    </tr>\n",
       "    <tr>\n",
       "      <th>18083</th>\n",
       "      <td>Dinner</td>\n",
       "      <td>Weekend</td>\n",
       "      <td>Sunday</td>\n",
       "      <td>5</td>\n",
       "      <td>Seafood specialties</td>\n",
       "      <td>Fish korma</td>\n",
       "      <td>19.0</td>\n",
       "      <td>1</td>\n",
       "      <td>6</td>\n",
       "      <td>19</td>\n",
       "      <td>PM</td>\n",
       "      <td>NV</td>\n",
       "    </tr>\n",
       "    <tr>\n",
       "      <th>18084</th>\n",
       "      <td>Dinner</td>\n",
       "      <td>Weekend</td>\n",
       "      <td>Sunday</td>\n",
       "      <td>5</td>\n",
       "      <td>Vegetable specials</td>\n",
       "      <td>Sarson da saag</td>\n",
       "      <td>15.0</td>\n",
       "      <td>1</td>\n",
       "      <td>6</td>\n",
       "      <td>19</td>\n",
       "      <td>PM</td>\n",
       "      <td>V</td>\n",
       "    </tr>\n",
       "    <tr>\n",
       "      <th>18085</th>\n",
       "      <td>Dinner</td>\n",
       "      <td>Weekend</td>\n",
       "      <td>Sunday</td>\n",
       "      <td>5</td>\n",
       "      <td>Breads</td>\n",
       "      <td>Garlic naan</td>\n",
       "      <td>3.5</td>\n",
       "      <td>2</td>\n",
       "      <td>6</td>\n",
       "      <td>19</td>\n",
       "      <td>PM</td>\n",
       "      <td>V</td>\n",
       "    </tr>\n",
       "    <tr>\n",
       "      <th>18086</th>\n",
       "      <td>Dinner</td>\n",
       "      <td>Weekend</td>\n",
       "      <td>Sunday</td>\n",
       "      <td>5</td>\n",
       "      <td>Breads</td>\n",
       "      <td>Spinach naan</td>\n",
       "      <td>6.0</td>\n",
       "      <td>1</td>\n",
       "      <td>6</td>\n",
       "      <td>19</td>\n",
       "      <td>PM</td>\n",
       "      <td>V</td>\n",
       "    </tr>\n",
       "    <tr>\n",
       "      <th>18087</th>\n",
       "      <td>Dinner</td>\n",
       "      <td>Weekend</td>\n",
       "      <td>Sunday</td>\n",
       "      <td>5</td>\n",
       "      <td>Vegetable specials</td>\n",
       "      <td>Paneer vindaloo</td>\n",
       "      <td>16.0</td>\n",
       "      <td>1</td>\n",
       "      <td>6</td>\n",
       "      <td>19</td>\n",
       "      <td>PM</td>\n",
       "      <td>V</td>\n",
       "    </tr>\n",
       "  </tbody>\n",
       "</table>\n",
       "<p>6029 rows × 12 columns</p>\n",
       "</div>"
      ],
      "text/plain": [
       "        Shift Day Type      Day  PartySize         MenuCateogry  \\\n",
       "19      Lunch  Weekday  Tuesday          5              Starter   \n",
       "20      Lunch  Weekday  Tuesday          5              Starter   \n",
       "21      Lunch  Weekday  Tuesday          5   Vegetable specials   \n",
       "22      Lunch  Weekday  Tuesday          5   Vegetable specials   \n",
       "23      Lunch  Weekday  Tuesday          5     Chicken specials   \n",
       "...       ...      ...      ...        ...                  ...   \n",
       "18083  Dinner  Weekend   Sunday          5  Seafood specialties   \n",
       "18084  Dinner  Weekend   Sunday          5   Vegetable specials   \n",
       "18085  Dinner  Weekend   Sunday          5               Breads   \n",
       "18086  Dinner  Weekend   Sunday          5               Breads   \n",
       "18087  Dinner  Weekend   Sunday          5   Vegetable specials   \n",
       "\n",
       "               MenuItem  ItemPrice  ItemQty  Month  Hour AM/PM NV/V  \n",
       "19     Vegetable samosa       11.0        1      1    12    PM    V  \n",
       "20          Chaat papri       11.0        2      1    12    PM    V  \n",
       "21       Baingan bartha       16.0        1      1    12    PM    V  \n",
       "22          Malai kofta       16.0        2      1    12    PM    V  \n",
       "23         Chicken saag       18.0        1      1    12    PM   NV  \n",
       "...                 ...        ...      ...    ...   ...   ...  ...  \n",
       "18083        Fish korma       19.0        1      6    19    PM   NV  \n",
       "18084    Sarson da saag       15.0        1      6    19    PM    V  \n",
       "18085       Garlic naan        3.5        2      6    19    PM    V  \n",
       "18086      Spinach naan        6.0        1      6    19    PM    V  \n",
       "18087   Paneer vindaloo       16.0        1      6    19    PM    V  \n",
       "\n",
       "[6029 rows x 12 columns]"
      ]
     },
     "execution_count": 42,
     "metadata": {},
     "output_type": "execute_result"
    }
   ],
   "source": [
    "df[df['PartySize']==5]"
   ]
  },
  {
   "cell_type": "markdown",
   "id": "c928c367",
   "metadata": {},
   "source": [
    "Since almost 1/3rd of the dataset has 'PartySize' value of 5, let's analyze this sub-dataset separately."
   ]
  },
  {
   "cell_type": "code",
   "execution_count": 43,
   "id": "01ea7063",
   "metadata": {},
   "outputs": [],
   "source": [
    "df5 = df[df['PartySize']==5].copy()"
   ]
  },
  {
   "cell_type": "code",
   "execution_count": 44,
   "id": "27c910be",
   "metadata": {},
   "outputs": [],
   "source": [
    "df5.drop('PartySize',axis=1,inplace=True)"
   ]
  },
  {
   "cell_type": "code",
   "execution_count": 45,
   "id": "74e752d6",
   "metadata": {},
   "outputs": [
    {
     "data": {
      "text/html": [
       "<div>\n",
       "<style scoped>\n",
       "    .dataframe tbody tr th:only-of-type {\n",
       "        vertical-align: middle;\n",
       "    }\n",
       "\n",
       "    .dataframe tbody tr th {\n",
       "        vertical-align: top;\n",
       "    }\n",
       "\n",
       "    .dataframe thead th {\n",
       "        text-align: right;\n",
       "    }\n",
       "</style>\n",
       "<table border=\"1\" class=\"dataframe\">\n",
       "  <thead>\n",
       "    <tr style=\"text-align: right;\">\n",
       "      <th></th>\n",
       "      <th>Shift</th>\n",
       "      <th>Day Type</th>\n",
       "      <th>Day</th>\n",
       "      <th>MenuCateogry</th>\n",
       "      <th>MenuItem</th>\n",
       "      <th>ItemPrice</th>\n",
       "      <th>ItemQty</th>\n",
       "      <th>Month</th>\n",
       "      <th>Hour</th>\n",
       "      <th>AM/PM</th>\n",
       "      <th>NV/V</th>\n",
       "    </tr>\n",
       "  </thead>\n",
       "  <tbody>\n",
       "    <tr>\n",
       "      <th>19</th>\n",
       "      <td>Lunch</td>\n",
       "      <td>Weekday</td>\n",
       "      <td>Tuesday</td>\n",
       "      <td>Starter</td>\n",
       "      <td>Vegetable samosa</td>\n",
       "      <td>11.0</td>\n",
       "      <td>1</td>\n",
       "      <td>1</td>\n",
       "      <td>12</td>\n",
       "      <td>PM</td>\n",
       "      <td>V</td>\n",
       "    </tr>\n",
       "    <tr>\n",
       "      <th>20</th>\n",
       "      <td>Lunch</td>\n",
       "      <td>Weekday</td>\n",
       "      <td>Tuesday</td>\n",
       "      <td>Starter</td>\n",
       "      <td>Chaat papri</td>\n",
       "      <td>11.0</td>\n",
       "      <td>2</td>\n",
       "      <td>1</td>\n",
       "      <td>12</td>\n",
       "      <td>PM</td>\n",
       "      <td>V</td>\n",
       "    </tr>\n",
       "    <tr>\n",
       "      <th>21</th>\n",
       "      <td>Lunch</td>\n",
       "      <td>Weekday</td>\n",
       "      <td>Tuesday</td>\n",
       "      <td>Vegetable specials</td>\n",
       "      <td>Baingan bartha</td>\n",
       "      <td>16.0</td>\n",
       "      <td>1</td>\n",
       "      <td>1</td>\n",
       "      <td>12</td>\n",
       "      <td>PM</td>\n",
       "      <td>V</td>\n",
       "    </tr>\n",
       "    <tr>\n",
       "      <th>22</th>\n",
       "      <td>Lunch</td>\n",
       "      <td>Weekday</td>\n",
       "      <td>Tuesday</td>\n",
       "      <td>Vegetable specials</td>\n",
       "      <td>Malai kofta</td>\n",
       "      <td>16.0</td>\n",
       "      <td>2</td>\n",
       "      <td>1</td>\n",
       "      <td>12</td>\n",
       "      <td>PM</td>\n",
       "      <td>V</td>\n",
       "    </tr>\n",
       "    <tr>\n",
       "      <th>23</th>\n",
       "      <td>Lunch</td>\n",
       "      <td>Weekday</td>\n",
       "      <td>Tuesday</td>\n",
       "      <td>Chicken specials</td>\n",
       "      <td>Chicken saag</td>\n",
       "      <td>18.0</td>\n",
       "      <td>1</td>\n",
       "      <td>1</td>\n",
       "      <td>12</td>\n",
       "      <td>PM</td>\n",
       "      <td>NV</td>\n",
       "    </tr>\n",
       "    <tr>\n",
       "      <th>...</th>\n",
       "      <td>...</td>\n",
       "      <td>...</td>\n",
       "      <td>...</td>\n",
       "      <td>...</td>\n",
       "      <td>...</td>\n",
       "      <td>...</td>\n",
       "      <td>...</td>\n",
       "      <td>...</td>\n",
       "      <td>...</td>\n",
       "      <td>...</td>\n",
       "      <td>...</td>\n",
       "    </tr>\n",
       "    <tr>\n",
       "      <th>18083</th>\n",
       "      <td>Dinner</td>\n",
       "      <td>Weekend</td>\n",
       "      <td>Sunday</td>\n",
       "      <td>Seafood specialties</td>\n",
       "      <td>Fish korma</td>\n",
       "      <td>19.0</td>\n",
       "      <td>1</td>\n",
       "      <td>6</td>\n",
       "      <td>19</td>\n",
       "      <td>PM</td>\n",
       "      <td>NV</td>\n",
       "    </tr>\n",
       "    <tr>\n",
       "      <th>18084</th>\n",
       "      <td>Dinner</td>\n",
       "      <td>Weekend</td>\n",
       "      <td>Sunday</td>\n",
       "      <td>Vegetable specials</td>\n",
       "      <td>Sarson da saag</td>\n",
       "      <td>15.0</td>\n",
       "      <td>1</td>\n",
       "      <td>6</td>\n",
       "      <td>19</td>\n",
       "      <td>PM</td>\n",
       "      <td>V</td>\n",
       "    </tr>\n",
       "    <tr>\n",
       "      <th>18085</th>\n",
       "      <td>Dinner</td>\n",
       "      <td>Weekend</td>\n",
       "      <td>Sunday</td>\n",
       "      <td>Breads</td>\n",
       "      <td>Garlic naan</td>\n",
       "      <td>3.5</td>\n",
       "      <td>2</td>\n",
       "      <td>6</td>\n",
       "      <td>19</td>\n",
       "      <td>PM</td>\n",
       "      <td>V</td>\n",
       "    </tr>\n",
       "    <tr>\n",
       "      <th>18086</th>\n",
       "      <td>Dinner</td>\n",
       "      <td>Weekend</td>\n",
       "      <td>Sunday</td>\n",
       "      <td>Breads</td>\n",
       "      <td>Spinach naan</td>\n",
       "      <td>6.0</td>\n",
       "      <td>1</td>\n",
       "      <td>6</td>\n",
       "      <td>19</td>\n",
       "      <td>PM</td>\n",
       "      <td>V</td>\n",
       "    </tr>\n",
       "    <tr>\n",
       "      <th>18087</th>\n",
       "      <td>Dinner</td>\n",
       "      <td>Weekend</td>\n",
       "      <td>Sunday</td>\n",
       "      <td>Vegetable specials</td>\n",
       "      <td>Paneer vindaloo</td>\n",
       "      <td>16.0</td>\n",
       "      <td>1</td>\n",
       "      <td>6</td>\n",
       "      <td>19</td>\n",
       "      <td>PM</td>\n",
       "      <td>V</td>\n",
       "    </tr>\n",
       "  </tbody>\n",
       "</table>\n",
       "<p>6029 rows × 11 columns</p>\n",
       "</div>"
      ],
      "text/plain": [
       "        Shift Day Type      Day         MenuCateogry          MenuItem  \\\n",
       "19      Lunch  Weekday  Tuesday              Starter  Vegetable samosa   \n",
       "20      Lunch  Weekday  Tuesday              Starter       Chaat papri   \n",
       "21      Lunch  Weekday  Tuesday   Vegetable specials    Baingan bartha   \n",
       "22      Lunch  Weekday  Tuesday   Vegetable specials       Malai kofta   \n",
       "23      Lunch  Weekday  Tuesday     Chicken specials      Chicken saag   \n",
       "...       ...      ...      ...                  ...               ...   \n",
       "18083  Dinner  Weekend   Sunday  Seafood specialties        Fish korma   \n",
       "18084  Dinner  Weekend   Sunday   Vegetable specials    Sarson da saag   \n",
       "18085  Dinner  Weekend   Sunday               Breads       Garlic naan   \n",
       "18086  Dinner  Weekend   Sunday               Breads      Spinach naan   \n",
       "18087  Dinner  Weekend   Sunday   Vegetable specials   Paneer vindaloo   \n",
       "\n",
       "       ItemPrice  ItemQty  Month  Hour AM/PM NV/V  \n",
       "19          11.0        1      1    12    PM    V  \n",
       "20          11.0        2      1    12    PM    V  \n",
       "21          16.0        1      1    12    PM    V  \n",
       "22          16.0        2      1    12    PM    V  \n",
       "23          18.0        1      1    12    PM   NV  \n",
       "...          ...      ...    ...   ...   ...  ...  \n",
       "18083       19.0        1      6    19    PM   NV  \n",
       "18084       15.0        1      6    19    PM    V  \n",
       "18085        3.5        2      6    19    PM    V  \n",
       "18086        6.0        1      6    19    PM    V  \n",
       "18087       16.0        1      6    19    PM    V  \n",
       "\n",
       "[6029 rows x 11 columns]"
      ]
     },
     "execution_count": 45,
     "metadata": {},
     "output_type": "execute_result"
    }
   ],
   "source": [
    "df5"
   ]
  },
  {
   "cell_type": "code",
   "execution_count": 47,
   "id": "881a70e4",
   "metadata": {},
   "outputs": [
    {
     "data": {
      "text/html": [
       "<div>\n",
       "<style scoped>\n",
       "    .dataframe tbody tr th:only-of-type {\n",
       "        vertical-align: middle;\n",
       "    }\n",
       "\n",
       "    .dataframe tbody tr th {\n",
       "        vertical-align: top;\n",
       "    }\n",
       "\n",
       "    .dataframe thead th {\n",
       "        text-align: right;\n",
       "    }\n",
       "</style>\n",
       "<table border=\"1\" class=\"dataframe\">\n",
       "  <thead>\n",
       "    <tr style=\"text-align: right;\">\n",
       "      <th></th>\n",
       "      <th>ItemPrice</th>\n",
       "      <th>ItemQty</th>\n",
       "      <th>Month</th>\n",
       "      <th>Hour</th>\n",
       "    </tr>\n",
       "  </thead>\n",
       "  <tbody>\n",
       "    <tr>\n",
       "      <th>count</th>\n",
       "      <td>6029.000000</td>\n",
       "      <td>6029.000000</td>\n",
       "      <td>6029.000000</td>\n",
       "      <td>6029.000000</td>\n",
       "    </tr>\n",
       "    <tr>\n",
       "      <th>mean</th>\n",
       "      <td>10.074473</td>\n",
       "      <td>1.369050</td>\n",
       "      <td>3.512191</td>\n",
       "      <td>15.992868</td>\n",
       "    </tr>\n",
       "    <tr>\n",
       "      <th>std</th>\n",
       "      <td>5.739663</td>\n",
       "      <td>0.541243</td>\n",
       "      <td>1.711739</td>\n",
       "      <td>3.465411</td>\n",
       "    </tr>\n",
       "    <tr>\n",
       "      <th>min</th>\n",
       "      <td>2.750000</td>\n",
       "      <td>1.000000</td>\n",
       "      <td>1.000000</td>\n",
       "      <td>12.000000</td>\n",
       "    </tr>\n",
       "    <tr>\n",
       "      <th>25%</th>\n",
       "      <td>5.000000</td>\n",
       "      <td>1.000000</td>\n",
       "      <td>2.000000</td>\n",
       "      <td>12.000000</td>\n",
       "    </tr>\n",
       "    <tr>\n",
       "      <th>50%</th>\n",
       "      <td>7.000000</td>\n",
       "      <td>1.000000</td>\n",
       "      <td>4.000000</td>\n",
       "      <td>19.000000</td>\n",
       "    </tr>\n",
       "    <tr>\n",
       "      <th>75%</th>\n",
       "      <td>16.000000</td>\n",
       "      <td>2.000000</td>\n",
       "      <td>5.000000</td>\n",
       "      <td>19.000000</td>\n",
       "    </tr>\n",
       "    <tr>\n",
       "      <th>max</th>\n",
       "      <td>19.000000</td>\n",
       "      <td>3.000000</td>\n",
       "      <td>6.000000</td>\n",
       "      <td>19.000000</td>\n",
       "    </tr>\n",
       "  </tbody>\n",
       "</table>\n",
       "</div>"
      ],
      "text/plain": [
       "         ItemPrice      ItemQty        Month         Hour\n",
       "count  6029.000000  6029.000000  6029.000000  6029.000000\n",
       "mean     10.074473     1.369050     3.512191    15.992868\n",
       "std       5.739663     0.541243     1.711739     3.465411\n",
       "min       2.750000     1.000000     1.000000    12.000000\n",
       "25%       5.000000     1.000000     2.000000    12.000000\n",
       "50%       7.000000     1.000000     4.000000    19.000000\n",
       "75%      16.000000     2.000000     5.000000    19.000000\n",
       "max      19.000000     3.000000     6.000000    19.000000"
      ]
     },
     "execution_count": 47,
     "metadata": {},
     "output_type": "execute_result"
    }
   ],
   "source": [
    "df5.describe()[0:]"
   ]
  },
  {
   "cell_type": "code",
   "execution_count": 69,
   "id": "18d04b81",
   "metadata": {},
   "outputs": [
    {
     "data": {
      "text/plain": [
       "<AxesSubplot:>"
      ]
     },
     "execution_count": 69,
     "metadata": {},
     "output_type": "execute_result"
    },
    {
     "data": {
      "image/png": "[encoded data removed]",
      "text/plain": [
       "<Figure size 432x288 with 2 Axes>"
      ]
     },
     "metadata": {
      "needs_background": "light"
     },
     "output_type": "display_data"
    }
   ],
   "source": [
    "sns.heatmap(df5.corr(),annot=True)"
   ]
  },
  {
   "cell_type": "code",
   "execution_count": 70,
   "id": "d002d70a",
   "metadata": {},
   "outputs": [
    {
     "data": {
      "image/png": "[encoded data removed]",
      "text/plain": [
       "<Figure size 864x2160 with 9 Axes>"
      ]
     },
     "metadata": {
      "needs_background": "light"
     },
     "output_type": "display_data"
    }
   ],
   "source": [
    "cat_cols = list(df5.columns)\n",
    "cat_cols.remove('ItemPrice')\n",
    "cat_cols.remove('MenuItem')\n",
    "fig,axarr = plt.subplots(nrows=len(cat_cols),figsize=(12,30))\n",
    "for i in range(len(cat_cols)):\n",
    "    sns.countplot(x=cat_cols[i],ax=axarr[i],data=df5)\n",
    "plt.tight_layout();"
   ]
  },
  {
   "cell_type": "markdown",
   "id": "03ca4bdc",
   "metadata": {},
   "source": [
    "From the above plots we can find that there are serious deviations from the normal trend we saw earlier.\n",
    "Deviations:\n",
    "1. PartySize of 5 predominantly comes for dinner.\n",
    "2. Weekends dominate weekday.\n",
    "3. Sales on Saturday and Sunday are the highest which was not the case with the normal trend.\n",
    "4. Breads is still the most preferred one but Desserts comes in second place whereas starter came in second place for the      whole dataset.\n",
    "5. Only hours 12 and 19 are the sales hours for PartySize of 5."
   ]
  },
  {
   "cell_type": "code",
   "execution_count": 74,
   "id": "2c03497e",
   "metadata": {},
   "outputs": [
    {
     "data": {
      "text/plain": [
       "Index(['Shift', 'Day Type', 'Day', 'PartySize', 'MenuCateogry', 'MenuItem',\n",
       "       'ItemPrice', 'ItemQty', 'Month', 'Hour', 'AM/PM', 'NV/V'],\n",
       "      dtype='object')"
      ]
     },
     "execution_count": 74,
     "metadata": {},
     "output_type": "execute_result"
    }
   ],
   "source": [
    "df.columns"
   ]
  },
  {
   "cell_type": "code",
   "execution_count": 76,
   "id": "c84bb61a",
   "metadata": {},
   "outputs": [],
   "source": [
    "df_enc = pd.get_dummies(df.drop(['ItemPrice','ItemQty'],axis=1),drop_first=True)"
   ]
  },
  {
   "cell_type": "code",
   "execution_count": 77,
   "id": "0399be09",
   "metadata": {},
   "outputs": [],
   "source": [
    "df_enc = pd.concat([df[['ItemPrice','ItemQty']],df_enc],axis=1)"
   ]
  },
  {
   "cell_type": "code",
   "execution_count": 78,
   "id": "a6167131",
   "metadata": {},
   "outputs": [
    {
     "data": {
      "text/html": [
       "<div>\n",
       "<style scoped>\n",
       "    .dataframe tbody tr th:only-of-type {\n",
       "        vertical-align: middle;\n",
       "    }\n",
       "\n",
       "    .dataframe tbody tr th {\n",
       "        vertical-align: top;\n",
       "    }\n",
       "\n",
       "    .dataframe thead th {\n",
       "        text-align: right;\n",
       "    }\n",
       "</style>\n",
       "<table border=\"1\" class=\"dataframe\">\n",
       "  <thead>\n",
       "    <tr style=\"text-align: right;\">\n",
       "      <th></th>\n",
       "      <th>ItemPrice</th>\n",
       "      <th>ItemQty</th>\n",
       "      <th>PartySize</th>\n",
       "      <th>Month</th>\n",
       "      <th>Hour</th>\n",
       "      <th>Shift_Lunch</th>\n",
       "      <th>Day Type_Weekend</th>\n",
       "      <th>Day_Monday</th>\n",
       "      <th>Day_Saturday</th>\n",
       "      <th>Day_Sunday</th>\n",
       "      <th>...</th>\n",
       "      <th>MenuItem_Spinach naan</th>\n",
       "      <th>MenuItem_Tandoori roti</th>\n",
       "      <th>MenuItem_Tasty flatbread</th>\n",
       "      <th>MenuItem_Tasty sliders : chicken paneer</th>\n",
       "      <th>MenuItem_Tikka rice bowl : paneer | chicken</th>\n",
       "      <th>MenuItem_Vegetable pakora</th>\n",
       "      <th>MenuItem_Vegetable samosa</th>\n",
       "      <th>MenuItem_Yellow dal fry</th>\n",
       "      <th>AM/PM_PM</th>\n",
       "      <th>NV/V_V</th>\n",
       "    </tr>\n",
       "  </thead>\n",
       "  <tbody>\n",
       "    <tr>\n",
       "      <th>0</th>\n",
       "      <td>14.00</td>\n",
       "      <td>1</td>\n",
       "      <td>4</td>\n",
       "      <td>1</td>\n",
       "      <td>11</td>\n",
       "      <td>1</td>\n",
       "      <td>0</td>\n",
       "      <td>0</td>\n",
       "      <td>0</td>\n",
       "      <td>0</td>\n",
       "      <td>...</td>\n",
       "      <td>0</td>\n",
       "      <td>0</td>\n",
       "      <td>0</td>\n",
       "      <td>0</td>\n",
       "      <td>0</td>\n",
       "      <td>0</td>\n",
       "      <td>0</td>\n",
       "      <td>0</td>\n",
       "      <td>0</td>\n",
       "      <td>1</td>\n",
       "    </tr>\n",
       "    <tr>\n",
       "      <th>1</th>\n",
       "      <td>11.00</td>\n",
       "      <td>1</td>\n",
       "      <td>4</td>\n",
       "      <td>1</td>\n",
       "      <td>11</td>\n",
       "      <td>1</td>\n",
       "      <td>0</td>\n",
       "      <td>0</td>\n",
       "      <td>0</td>\n",
       "      <td>0</td>\n",
       "      <td>...</td>\n",
       "      <td>0</td>\n",
       "      <td>0</td>\n",
       "      <td>1</td>\n",
       "      <td>0</td>\n",
       "      <td>0</td>\n",
       "      <td>0</td>\n",
       "      <td>0</td>\n",
       "      <td>0</td>\n",
       "      <td>0</td>\n",
       "      <td>1</td>\n",
       "    </tr>\n",
       "    <tr>\n",
       "      <th>2</th>\n",
       "      <td>15.00</td>\n",
       "      <td>1</td>\n",
       "      <td>4</td>\n",
       "      <td>1</td>\n",
       "      <td>11</td>\n",
       "      <td>1</td>\n",
       "      <td>0</td>\n",
       "      <td>0</td>\n",
       "      <td>0</td>\n",
       "      <td>0</td>\n",
       "      <td>...</td>\n",
       "      <td>0</td>\n",
       "      <td>0</td>\n",
       "      <td>0</td>\n",
       "      <td>0</td>\n",
       "      <td>0</td>\n",
       "      <td>0</td>\n",
       "      <td>0</td>\n",
       "      <td>0</td>\n",
       "      <td>0</td>\n",
       "      <td>1</td>\n",
       "    </tr>\n",
       "    <tr>\n",
       "      <th>3</th>\n",
       "      <td>16.00</td>\n",
       "      <td>1</td>\n",
       "      <td>4</td>\n",
       "      <td>1</td>\n",
       "      <td>11</td>\n",
       "      <td>1</td>\n",
       "      <td>0</td>\n",
       "      <td>0</td>\n",
       "      <td>0</td>\n",
       "      <td>0</td>\n",
       "      <td>...</td>\n",
       "      <td>0</td>\n",
       "      <td>0</td>\n",
       "      <td>0</td>\n",
       "      <td>0</td>\n",
       "      <td>0</td>\n",
       "      <td>0</td>\n",
       "      <td>0</td>\n",
       "      <td>0</td>\n",
       "      <td>0</td>\n",
       "      <td>1</td>\n",
       "    </tr>\n",
       "    <tr>\n",
       "      <th>4</th>\n",
       "      <td>3.50</td>\n",
       "      <td>2</td>\n",
       "      <td>4</td>\n",
       "      <td>1</td>\n",
       "      <td>11</td>\n",
       "      <td>1</td>\n",
       "      <td>0</td>\n",
       "      <td>0</td>\n",
       "      <td>0</td>\n",
       "      <td>0</td>\n",
       "      <td>...</td>\n",
       "      <td>0</td>\n",
       "      <td>0</td>\n",
       "      <td>0</td>\n",
       "      <td>0</td>\n",
       "      <td>0</td>\n",
       "      <td>0</td>\n",
       "      <td>0</td>\n",
       "      <td>0</td>\n",
       "      <td>0</td>\n",
       "      <td>1</td>\n",
       "    </tr>\n",
       "    <tr>\n",
       "      <th>...</th>\n",
       "      <td>...</td>\n",
       "      <td>...</td>\n",
       "      <td>...</td>\n",
       "      <td>...</td>\n",
       "      <td>...</td>\n",
       "      <td>...</td>\n",
       "      <td>...</td>\n",
       "      <td>...</td>\n",
       "      <td>...</td>\n",
       "      <td>...</td>\n",
       "      <td>...</td>\n",
       "      <td>...</td>\n",
       "      <td>...</td>\n",
       "      <td>...</td>\n",
       "      <td>...</td>\n",
       "      <td>...</td>\n",
       "      <td>...</td>\n",
       "      <td>...</td>\n",
       "      <td>...</td>\n",
       "      <td>...</td>\n",
       "      <td>...</td>\n",
       "    </tr>\n",
       "    <tr>\n",
       "      <th>18095</th>\n",
       "      <td>5.00</td>\n",
       "      <td>1</td>\n",
       "      <td>0</td>\n",
       "      <td>6</td>\n",
       "      <td>20</td>\n",
       "      <td>0</td>\n",
       "      <td>1</td>\n",
       "      <td>0</td>\n",
       "      <td>0</td>\n",
       "      <td>1</td>\n",
       "      <td>...</td>\n",
       "      <td>0</td>\n",
       "      <td>0</td>\n",
       "      <td>0</td>\n",
       "      <td>0</td>\n",
       "      <td>0</td>\n",
       "      <td>0</td>\n",
       "      <td>0</td>\n",
       "      <td>0</td>\n",
       "      <td>1</td>\n",
       "      <td>1</td>\n",
       "    </tr>\n",
       "    <tr>\n",
       "      <th>18096</th>\n",
       "      <td>2.75</td>\n",
       "      <td>1</td>\n",
       "      <td>0</td>\n",
       "      <td>6</td>\n",
       "      <td>20</td>\n",
       "      <td>0</td>\n",
       "      <td>1</td>\n",
       "      <td>0</td>\n",
       "      <td>0</td>\n",
       "      <td>1</td>\n",
       "      <td>...</td>\n",
       "      <td>0</td>\n",
       "      <td>1</td>\n",
       "      <td>0</td>\n",
       "      <td>0</td>\n",
       "      <td>0</td>\n",
       "      <td>0</td>\n",
       "      <td>0</td>\n",
       "      <td>0</td>\n",
       "      <td>1</td>\n",
       "      <td>1</td>\n",
       "    </tr>\n",
       "    <tr>\n",
       "      <th>18097</th>\n",
       "      <td>2.75</td>\n",
       "      <td>4</td>\n",
       "      <td>0</td>\n",
       "      <td>6</td>\n",
       "      <td>20</td>\n",
       "      <td>0</td>\n",
       "      <td>1</td>\n",
       "      <td>0</td>\n",
       "      <td>0</td>\n",
       "      <td>1</td>\n",
       "      <td>...</td>\n",
       "      <td>0</td>\n",
       "      <td>0</td>\n",
       "      <td>0</td>\n",
       "      <td>0</td>\n",
       "      <td>0</td>\n",
       "      <td>0</td>\n",
       "      <td>0</td>\n",
       "      <td>0</td>\n",
       "      <td>1</td>\n",
       "      <td>1</td>\n",
       "    </tr>\n",
       "    <tr>\n",
       "      <th>18098</th>\n",
       "      <td>16.00</td>\n",
       "      <td>2</td>\n",
       "      <td>0</td>\n",
       "      <td>6</td>\n",
       "      <td>20</td>\n",
       "      <td>0</td>\n",
       "      <td>1</td>\n",
       "      <td>0</td>\n",
       "      <td>0</td>\n",
       "      <td>1</td>\n",
       "      <td>...</td>\n",
       "      <td>0</td>\n",
       "      <td>0</td>\n",
       "      <td>0</td>\n",
       "      <td>0</td>\n",
       "      <td>0</td>\n",
       "      <td>0</td>\n",
       "      <td>0</td>\n",
       "      <td>0</td>\n",
       "      <td>1</td>\n",
       "      <td>1</td>\n",
       "    </tr>\n",
       "    <tr>\n",
       "      <th>18099</th>\n",
       "      <td>3.50</td>\n",
       "      <td>2</td>\n",
       "      <td>0</td>\n",
       "      <td>6</td>\n",
       "      <td>20</td>\n",
       "      <td>0</td>\n",
       "      <td>1</td>\n",
       "      <td>0</td>\n",
       "      <td>0</td>\n",
       "      <td>1</td>\n",
       "      <td>...</td>\n",
       "      <td>0</td>\n",
       "      <td>0</td>\n",
       "      <td>0</td>\n",
       "      <td>0</td>\n",
       "      <td>0</td>\n",
       "      <td>0</td>\n",
       "      <td>0</td>\n",
       "      <td>0</td>\n",
       "      <td>1</td>\n",
       "      <td>1</td>\n",
       "    </tr>\n",
       "  </tbody>\n",
       "</table>\n",
       "<p>18100 rows × 64 columns</p>\n",
       "</div>"
      ],
      "text/plain": [
       "       ItemPrice  ItemQty  PartySize  Month  Hour  Shift_Lunch  \\\n",
       "0          14.00        1          4      1    11            1   \n",
       "1          11.00        1          4      1    11            1   \n",
       "2          15.00        1          4      1    11            1   \n",
       "3          16.00        1          4      1    11            1   \n",
       "4           3.50        2          4      1    11            1   \n",
       "...          ...      ...        ...    ...   ...          ...   \n",
       "18095       5.00        1          0      6    20            0   \n",
       "18096       2.75        1          0      6    20            0   \n",
       "18097       2.75        4          0      6    20            0   \n",
       "18098      16.00        2          0      6    20            0   \n",
       "18099       3.50        2          0      6    20            0   \n",
       "\n",
       "       Day Type_Weekend  Day_Monday  Day_Saturday  Day_Sunday  ...  \\\n",
       "0                     0           0             0           0  ...   \n",
       "1                     0           0             0           0  ...   \n",
       "2                     0           0             0           0  ...   \n",
       "3                     0           0             0           0  ...   \n",
       "4                     0           0             0           0  ...   \n",
       "...                 ...         ...           ...         ...  ...   \n",
       "18095                 1           0             0           1  ...   \n",
       "18096                 1           0             0           1  ...   \n",
       "18097                 1           0             0           1  ...   \n",
       "18098                 1           0             0           1  ...   \n",
       "18099                 1           0             0           1  ...   \n",
       "\n",
       "       MenuItem_Spinach naan  MenuItem_Tandoori roti  \\\n",
       "0                          0                       0   \n",
       "1                          0                       0   \n",
       "2                          0                       0   \n",
       "3                          0                       0   \n",
       "4                          0                       0   \n",
       "...                      ...                     ...   \n",
       "18095                      0                       0   \n",
       "18096                      0                       1   \n",
       "18097                      0                       0   \n",
       "18098                      0                       0   \n",
       "18099                      0                       0   \n",
       "\n",
       "       MenuItem_Tasty flatbread  MenuItem_Tasty sliders : chicken paneer  \\\n",
       "0                             0                                        0   \n",
       "1                             1                                        0   \n",
       "2                             0                                        0   \n",
       "3                             0                                        0   \n",
       "4                             0                                        0   \n",
       "...                         ...                                      ...   \n",
       "18095                         0                                        0   \n",
       "18096                         0                                        0   \n",
       "18097                         0                                        0   \n",
       "18098                         0                                        0   \n",
       "18099                         0                                        0   \n",
       "\n",
       "       MenuItem_Tikka rice bowl : paneer | chicken  MenuItem_Vegetable pakora  \\\n",
       "0                                                0                          0   \n",
       "1                                                0                          0   \n",
       "2                                                0                          0   \n",
       "3                                                0                          0   \n",
       "4                                                0                          0   \n",
       "...                                            ...                        ...   \n",
       "18095                                            0                          0   \n",
       "18096                                            0                          0   \n",
       "18097                                            0                          0   \n",
       "18098                                            0                          0   \n",
       "18099                                            0                          0   \n",
       "\n",
       "       MenuItem_Vegetable samosa  MenuItem_Yellow dal fry  AM/PM_PM  NV/V_V  \n",
       "0                              0                        0         0       1  \n",
       "1                              0                        0         0       1  \n",
       "2                              0                        0         0       1  \n",
       "3                              0                        0         0       1  \n",
       "4                              0                        0         0       1  \n",
       "...                          ...                      ...       ...     ...  \n",
       "18095                          0                        0         1       1  \n",
       "18096                          0                        0         1       1  \n",
       "18097                          0                        0         1       1  \n",
       "18098                          0                        0         1       1  \n",
       "18099                          0                        0         1       1  \n",
       "\n",
       "[18100 rows x 64 columns]"
      ]
     },
     "execution_count": 78,
     "metadata": {},
     "output_type": "execute_result"
    }
   ],
   "source": [
    "df_enc"
   ]
  },
  {
   "cell_type": "code",
   "execution_count": 79,
   "id": "91f573e3",
   "metadata": {},
   "outputs": [],
   "source": [
    "from sklearn.preprocessing import StandardScaler\n",
    "from sklearn.cluster import KMeans"
   ]
  },
  {
   "cell_type": "code",
   "execution_count": 80,
   "id": "b548eff9",
   "metadata": {},
   "outputs": [],
   "source": [
    "sc = StandardScaler()\n",
    "X = sc.fit_transform(df_enc.values)"
   ]
  },
  {
   "cell_type": "code",
   "execution_count": 81,
   "id": "843607ac",
   "metadata": {},
   "outputs": [],
   "source": [
    "sse = []\n",
    "for i in range(2,11):\n",
    "    km = KMeans(n_clusters=i)\n",
    "    km.fit(X)\n",
    "    sse.append(km.inertia_)"
   ]
  },
  {
   "cell_type": "code",
   "execution_count": 82,
   "id": "4e29de62",
   "metadata": {},
   "outputs": [
    {
     "data": {
      "image/png": "[encoded data removed]",
      "text/plain": [
       "<Figure size 432x288 with 1 Axes>"
      ]
     },
     "metadata": {
      "needs_background": "light"
     },
     "output_type": "display_data"
    }
   ],
   "source": [
    "plt.plot([2,3,4,5,6,7,8,9,10],sse,marker='o',linestyle='--')\n",
    "plt.xlabel('Number of clusters')\n",
    "plt.ylabel('Sum of squared errors')\n",
    "plt.title('No of clusters v SSE');"
   ]
  },
  {
   "cell_type": "code",
   "execution_count": 91,
   "id": "79c063a3",
   "metadata": {},
   "outputs": [],
   "source": [
    "km = KMeans(n_clusters=4)\n",
    "y_km = km.fit_predict(X)"
   ]
  },
  {
   "cell_type": "code",
   "execution_count": 92,
   "id": "c278944d",
   "metadata": {},
   "outputs": [
    {
     "data": {
      "image/png": "[encoded data removed]",
      "text/plain": [
       "<Figure size 432x288 with 1 Axes>"
      ]
     },
     "metadata": {
      "needs_background": "light"
     },
     "output_type": "display_data"
    }
   ],
   "source": [
    "from matplotlib import cm\n",
    "from sklearn.metrics import silhouette_samples\n",
    "cluster_labels = np.unique(y_km)\n",
    "n_clusters = cluster_labels.shape[0]\n",
    "silhouette_vals = silhouette_samples(X,y_km,metric='euclidean')\n",
    "y_ax_lower,y_ax_upper = 0,0\n",
    "yticks = []\n",
    "for i,c in enumerate(cluster_labels):\n",
    "    c_sil_vals = silhouette_vals[y_km==c]\n",
    "    c_sil_vals.sort()\n",
    "    y_ax_upper += len(c_sil_vals)\n",
    "    color = cm.jet(float(i)/n_clusters)\n",
    "    plt.barh(range(y_ax_lower,y_ax_upper),c_sil_vals,height=1,edgecolor='none',color=color)\n",
    "    yticks.append((y_ax_lower+y_ax_upper)/2)\n",
    "    y_ax_lower += len(c_sil_vals)\n",
    "sil_avg = np.mean(silhouette_vals)\n",
    "plt.axvline(sil_avg,color='red',linestyle='--')\n",
    "plt.yticks(yticks,cluster_labels+1)\n",
    "plt.ylabel('Cluster')\n",
    "plt.xlabel('Silhouette Coefficient');"
   ]
  },
  {
   "cell_type": "code",
   "execution_count": null,
   "id": "6ef57152",
   "metadata": {},
   "outputs": [],
   "source": []
  }
 ],
 "metadata": {
  "kernelspec": {
   "display_name": "Python 3 (ipykernel)",
   "language": "python",
   "name": "python3"
  },
  "language_info": {
   "codemirror_mode": {
    "name": "ipython",
    "version": 3
   },
   "file_extension": ".py",
   "mimetype": "text/x-python",
   "name": "python",
   "nbconvert_exporter": "python",
   "pygments_lexer": "ipython3",
   "version": "3.8.12"
  }
 },
 "nbformat": 4,
 "nbformat_minor": 5
}
